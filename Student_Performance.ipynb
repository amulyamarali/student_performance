{
  "nbformat": 4,
  "nbformat_minor": 0,
  "metadata": {
    "colab": {
      "provenance": [],
      "collapsed_sections": [],
      "include_colab_link": true
    },
    "kernelspec": {
      "name": "python3",
      "display_name": "Python 3"
    }
  },
  "cells": [
    {
      "cell_type": "markdown",
      "metadata": {
        "id": "view-in-github",
        "colab_type": "text"
      },
      "source": [
        "<a href=\"https://colab.research.google.com/github/amulyamarali/student_performance/blob/main/Student_Performance.ipynb\" target=\"_parent\"><img src=\"https://colab.research.google.com/assets/colab-badge.svg\" alt=\"Open In Colab\"/></a>"
      ]
    },
    {
      "cell_type": "markdown",
      "metadata": {
        "id": "lP6JLo1tGNBg"
      },
      "source": [
        "# Artificial Neural Network\n",
        "### my first artificial brain\n",
        "\n",
        "# ANN using CLASSIFICATION\n"
      ]
    },
    {
      "cell_type": "markdown",
      "metadata": {
        "id": "gWZyYmS_UE_L"
      },
      "source": [
        "### Importing the libraries"
      ]
    },
    {
      "cell_type": "code",
      "source": [
        "import numpy as np\n",
        "import pandas as pd\n",
        "import tensorflow as tf"
      ],
      "metadata": {
        "id": "l74ZNf533OSI"
      },
      "execution_count": 1,
      "outputs": []
    },
    {
      "cell_type": "code",
      "source": [
        "tf.__version__"
      ],
      "metadata": {
        "colab": {
          "base_uri": "https://localhost:8080/",
          "height": 36
        },
        "id": "iD-1MNeS3aoZ",
        "outputId": "1a2f92e4-a327-4b67-d4e4-79ecaee12703"
      },
      "execution_count": 2,
      "outputs": [
        {
          "output_type": "execute_result",
          "data": {
            "text/plain": [
              "'2.8.2'"
            ],
            "application/vnd.google.colaboratory.intrinsic+json": {
              "type": "string"
            }
          },
          "metadata": {},
          "execution_count": 2
        }
      ]
    },
    {
      "cell_type": "markdown",
      "metadata": {
        "id": "1E0Q3aoKUCRX"
      },
      "source": [
        "## Part 1 - Data Preprocessing"
      ]
    },
    {
      "cell_type": "markdown",
      "metadata": {
        "id": "cKWAkFVGUU0Z"
      },
      "source": [
        "### Importing the dataset"
      ]
    },
    {
      "cell_type": "code",
      "source": [
        "dataset = pd.read_csv(\"student-por.csv\")"
      ],
      "metadata": {
        "id": "9UQZrAgL39Hy"
      },
      "execution_count": 3,
      "outputs": []
    },
    {
      "cell_type": "markdown",
      "source": [
        "Creating a subset of the data set\n"
      ],
      "metadata": {
        "id": "XZA67odYBOc7"
      }
    },
    {
      "cell_type": "code",
      "source": [
        "data2 = dataset[[\"G1\", \"G2\", \"G3\", \"failures\", \"studytime\", \"freetime\", \"absences\", \"internet\"]].copy()\n",
        "data2.head()"
      ],
      "metadata": {
        "colab": {
          "base_uri": "https://localhost:8080/",
          "height": 206
        },
        "id": "eDEqH8_nBTa3",
        "outputId": "87d4ba4b-bf08-419b-dee2-01d05f409d59"
      },
      "execution_count": 4,
      "outputs": [
        {
          "output_type": "execute_result",
          "data": {
            "text/plain": [
              "   G1  G2  G3  failures  studytime  freetime  absences internet\n",
              "0   0  11  11         0          2         3         4       no\n",
              "1   9  11  11         0          2         3         2      yes\n",
              "2  12  13  12         0          2         3         6      yes\n",
              "3  14  14  14         0          3         2         0      yes\n",
              "4  11  13  13         0          2         3         0       no"
            ],
            "text/html": [
              "\n",
              "  <div id=\"df-fbea4f68-f1d1-40fb-b40b-722d6942fec7\">\n",
              "    <div class=\"colab-df-container\">\n",
              "      <div>\n",
              "<style scoped>\n",
              "    .dataframe tbody tr th:only-of-type {\n",
              "        vertical-align: middle;\n",
              "    }\n",
              "\n",
              "    .dataframe tbody tr th {\n",
              "        vertical-align: top;\n",
              "    }\n",
              "\n",
              "    .dataframe thead th {\n",
              "        text-align: right;\n",
              "    }\n",
              "</style>\n",
              "<table border=\"1\" class=\"dataframe\">\n",
              "  <thead>\n",
              "    <tr style=\"text-align: right;\">\n",
              "      <th></th>\n",
              "      <th>G1</th>\n",
              "      <th>G2</th>\n",
              "      <th>G3</th>\n",
              "      <th>failures</th>\n",
              "      <th>studytime</th>\n",
              "      <th>freetime</th>\n",
              "      <th>absences</th>\n",
              "      <th>internet</th>\n",
              "    </tr>\n",
              "  </thead>\n",
              "  <tbody>\n",
              "    <tr>\n",
              "      <th>0</th>\n",
              "      <td>0</td>\n",
              "      <td>11</td>\n",
              "      <td>11</td>\n",
              "      <td>0</td>\n",
              "      <td>2</td>\n",
              "      <td>3</td>\n",
              "      <td>4</td>\n",
              "      <td>no</td>\n",
              "    </tr>\n",
              "    <tr>\n",
              "      <th>1</th>\n",
              "      <td>9</td>\n",
              "      <td>11</td>\n",
              "      <td>11</td>\n",
              "      <td>0</td>\n",
              "      <td>2</td>\n",
              "      <td>3</td>\n",
              "      <td>2</td>\n",
              "      <td>yes</td>\n",
              "    </tr>\n",
              "    <tr>\n",
              "      <th>2</th>\n",
              "      <td>12</td>\n",
              "      <td>13</td>\n",
              "      <td>12</td>\n",
              "      <td>0</td>\n",
              "      <td>2</td>\n",
              "      <td>3</td>\n",
              "      <td>6</td>\n",
              "      <td>yes</td>\n",
              "    </tr>\n",
              "    <tr>\n",
              "      <th>3</th>\n",
              "      <td>14</td>\n",
              "      <td>14</td>\n",
              "      <td>14</td>\n",
              "      <td>0</td>\n",
              "      <td>3</td>\n",
              "      <td>2</td>\n",
              "      <td>0</td>\n",
              "      <td>yes</td>\n",
              "    </tr>\n",
              "    <tr>\n",
              "      <th>4</th>\n",
              "      <td>11</td>\n",
              "      <td>13</td>\n",
              "      <td>13</td>\n",
              "      <td>0</td>\n",
              "      <td>2</td>\n",
              "      <td>3</td>\n",
              "      <td>0</td>\n",
              "      <td>no</td>\n",
              "    </tr>\n",
              "  </tbody>\n",
              "</table>\n",
              "</div>\n",
              "      <button class=\"colab-df-convert\" onclick=\"convertToInteractive('df-fbea4f68-f1d1-40fb-b40b-722d6942fec7')\"\n",
              "              title=\"Convert this dataframe to an interactive table.\"\n",
              "              style=\"display:none;\">\n",
              "        \n",
              "  <svg xmlns=\"http://www.w3.org/2000/svg\" height=\"24px\"viewBox=\"0 0 24 24\"\n",
              "       width=\"24px\">\n",
              "    <path d=\"M0 0h24v24H0V0z\" fill=\"none\"/>\n",
              "    <path d=\"M18.56 5.44l.94 2.06.94-2.06 2.06-.94-2.06-.94-.94-2.06-.94 2.06-2.06.94zm-11 1L8.5 8.5l.94-2.06 2.06-.94-2.06-.94L8.5 2.5l-.94 2.06-2.06.94zm10 10l.94 2.06.94-2.06 2.06-.94-2.06-.94-.94-2.06-.94 2.06-2.06.94z\"/><path d=\"M17.41 7.96l-1.37-1.37c-.4-.4-.92-.59-1.43-.59-.52 0-1.04.2-1.43.59L10.3 9.45l-7.72 7.72c-.78.78-.78 2.05 0 2.83L4 21.41c.39.39.9.59 1.41.59.51 0 1.02-.2 1.41-.59l7.78-7.78 2.81-2.81c.8-.78.8-2.07 0-2.86zM5.41 20L4 18.59l7.72-7.72 1.47 1.35L5.41 20z\"/>\n",
              "  </svg>\n",
              "      </button>\n",
              "      \n",
              "  <style>\n",
              "    .colab-df-container {\n",
              "      display:flex;\n",
              "      flex-wrap:wrap;\n",
              "      gap: 12px;\n",
              "    }\n",
              "\n",
              "    .colab-df-convert {\n",
              "      background-color: #E8F0FE;\n",
              "      border: none;\n",
              "      border-radius: 50%;\n",
              "      cursor: pointer;\n",
              "      display: none;\n",
              "      fill: #1967D2;\n",
              "      height: 32px;\n",
              "      padding: 0 0 0 0;\n",
              "      width: 32px;\n",
              "    }\n",
              "\n",
              "    .colab-df-convert:hover {\n",
              "      background-color: #E2EBFA;\n",
              "      box-shadow: 0px 1px 2px rgba(60, 64, 67, 0.3), 0px 1px 3px 1px rgba(60, 64, 67, 0.15);\n",
              "      fill: #174EA6;\n",
              "    }\n",
              "\n",
              "    [theme=dark] .colab-df-convert {\n",
              "      background-color: #3B4455;\n",
              "      fill: #D2E3FC;\n",
              "    }\n",
              "\n",
              "    [theme=dark] .colab-df-convert:hover {\n",
              "      background-color: #434B5C;\n",
              "      box-shadow: 0px 1px 3px 1px rgba(0, 0, 0, 0.15);\n",
              "      filter: drop-shadow(0px 1px 2px rgba(0, 0, 0, 0.3));\n",
              "      fill: #FFFFFF;\n",
              "    }\n",
              "  </style>\n",
              "\n",
              "      <script>\n",
              "        const buttonEl =\n",
              "          document.querySelector('#df-fbea4f68-f1d1-40fb-b40b-722d6942fec7 button.colab-df-convert');\n",
              "        buttonEl.style.display =\n",
              "          google.colab.kernel.accessAllowed ? 'block' : 'none';\n",
              "\n",
              "        async function convertToInteractive(key) {\n",
              "          const element = document.querySelector('#df-fbea4f68-f1d1-40fb-b40b-722d6942fec7');\n",
              "          const dataTable =\n",
              "            await google.colab.kernel.invokeFunction('convertToInteractive',\n",
              "                                                     [key], {});\n",
              "          if (!dataTable) return;\n",
              "\n",
              "          const docLinkHtml = 'Like what you see? Visit the ' +\n",
              "            '<a target=\"_blank\" href=https://colab.research.google.com/notebooks/data_table.ipynb>data table notebook</a>'\n",
              "            + ' to learn more about interactive tables.';\n",
              "          element.innerHTML = '';\n",
              "          dataTable['output_type'] = 'display_data';\n",
              "          await google.colab.output.renderOutput(dataTable, element);\n",
              "          const docLink = document.createElement('div');\n",
              "          docLink.innerHTML = docLinkHtml;\n",
              "          element.appendChild(docLink);\n",
              "        }\n",
              "      </script>\n",
              "    </div>\n",
              "  </div>\n",
              "  "
            ]
          },
          "metadata": {},
          "execution_count": 4
        }
      ]
    },
    {
      "cell_type": "code",
      "source": [
        "# as rollno. customerId and surname has no impact on predicting whether the customer leaves or not \n",
        "# we will get rid of those columns \n",
        "x = data2.iloc[:, 1:].values\n",
        "y = data2.iloc[:, 0].values"
      ],
      "metadata": {
        "id": "291qqe6NBrGH"
      },
      "execution_count": 5,
      "outputs": []
    },
    {
      "cell_type": "code",
      "source": [
        "print(x) # printing matrix of features "
      ],
      "metadata": {
        "colab": {
          "base_uri": "https://localhost:8080/"
        },
        "id": "QLRdiajNBygE",
        "outputId": "23960221-4d6f-4389-faea-03e70abe325b"
      },
      "execution_count": 6,
      "outputs": [
        {
          "output_type": "stream",
          "name": "stdout",
          "text": [
            "[[11 11 0 ... 3 4 'no']\n",
            " [11 11 0 ... 3 2 'yes']\n",
            " [13 12 0 ... 3 6 'yes']\n",
            " ...\n",
            " [12 9 0 ... 1 6 'no']\n",
            " [10 10 0 ... 4 6 'yes']\n",
            " [11 11 0 ... 4 4 'yes']]\n"
          ]
        }
      ]
    },
    {
      "cell_type": "code",
      "source": [
        "print(y) # printing the dependent variable's data "
      ],
      "metadata": {
        "colab": {
          "base_uri": "https://localhost:8080/"
        },
        "id": "l-_gtBpFBytU",
        "outputId": "0fd735bf-433f-4be5-a9d5-4c654d47903d"
      },
      "execution_count": 7,
      "outputs": [
        {
          "output_type": "stream",
          "name": "stdout",
          "text": [
            "[ 0  9 12 14 11 12 13 10 15 12 14 10 12 12 14 17 13 13  8 12 12 11 12 10\n",
            " 10 10 11 11 12 12 10 15 13 13 12 11 14 13 11 14 11 10 14  9 10 10 13 17\n",
            " 11 13 14 16 10 13 13 12 15 15 14 16 17 10 13 14 13 16 11 10 11 15 13 11\n",
            " 13 13 11 11 12 13  9 12 11 10 12 13 13 12 13 15 12  9  9 14 12 13 11 13\n",
            "  9 13 12 12  9 16 12 11 16 10 10 13 12 15 13 11  8 18 10 16 16 14 12 14\n",
            " 14 14 14 12 12  9 10  9 14 13 10 10 11 11 13 15  9 13 12 13 10 14 11 12\n",
            " 12  9 10 13  8  9  9 15 12 13 10  9 12 11 11 13 11  9 12 11  9 13 11 13\n",
            "  7  9 11 12 10  9  8  7  8  9  8  8  9 17 12 16  9 16 11 14 14 10 13 11\n",
            " 10 11 11 11 17 14 14 11 10 13 12  9 12 12 10 11 13 14 13 10 14 11 14 11\n",
            " 14 13 13  8 11 14 12 11 12 13 13 12 12 14 11 10 12 12 11 12 13 10 15  8\n",
            " 17 10  9 15 14 12 13 13  9 12 16  9 14 10  9  8  7 10 14 11 12 13  9  8\n",
            " 11 15 15 15 12 14 14 11 13 11 10 12 15 11  9  7 10 11  7  9  7 14 12  9\n",
            " 12 14 10 11 11 11 11 11 16  9 10 10 15 10 10 15 11  8 15 11 10 10  8 11\n",
            " 16 13 16 14 15 12 12 11 14 13  9 10 10 11 13 17 12 12 12 12 18 13 14 17\n",
            " 15 17 18 14 14 14 13 16 18 14 12  7 16 18  9 14 10 10 12 11 15 14 12 15\n",
            " 11 11 12 11 14 15 12 11  8 10  8 10 14 11 17 14 14 13 17 11 13 15 11 11\n",
            " 11 10 15 15 10 10 14 11 12 14 14 12 16 10 11 14 15 14 11 12 12 10 10  9\n",
            "  9 13 13 12 14  9 11  9 16 14 13  7 14  8 10 10 12 10 10 16  6 10 10 10\n",
            "  6 13 10 10  6 12 10 14  7  8 12  7  9  7 11  8 16 11 15 10  9 10  9  9\n",
            " 13 10 13 10 11 13 13 14 11  9 10 14 13 13 13 12 14 10 10 12 10 12  7  9\n",
            "  9  9  9  9  7 11  9  7  7  8  9  7  8  9  8 14 14 10 14 17  6 14 10 14\n",
            " 12 11 11 11 10 16 15 11  7  8  7  9 14 14  8  8  6  8  8  5  7 15 13 10\n",
            "  9 11  7 10  9 14 11  9 13 12 11  9  9 11 10  9 12  8 13 10 11 17 12 13\n",
            "  9 11 10 13  9  7  8 12 10 10 11  7 11 10  9  4  6  4  7  8  5  7  8 10\n",
            "  9 10  8  9  8  6  6  8 10  8  8  7  8  7  7 12 11 12 18 17 17  9 10 12\n",
            " 12  8 11  5  9  5 18 11  8 11  8 14 10 10 12 15 14 19 16 13 15 13  8 15\n",
            "  8 10  7  9 10  7 15 10  7 13 16  8 17  7 14  5  7 14  6  7 10 15 11 10\n",
            " 10]\n"
          ]
        }
      ]
    },
    {
      "cell_type": "markdown",
      "metadata": {
        "id": "N6bQ0UgSU-NJ"
      },
      "source": [
        "### Encoding categorical data"
      ]
    },
    {
      "cell_type": "markdown",
      "metadata": {
        "id": "le5MJreAbW52"
      },
      "source": [
        "Label Encoding the \"Internet\" column"
      ]
    },
    {
      "cell_type": "code",
      "source": [
        "# there are two categories one is the country which is mainly divided into france spian and germany\n",
        "# the other is gender either female or male \n",
        "from sklearn.preprocessing import LabelEncoder\n",
        "le = LabelEncoder()\n",
        " # if we do x = le.fit_transform(x)  ------> this will apply categorization to all the columns os the dataset\n",
        "x[:, 6] = le.fit_transform(x[:, 6])  # this will transform only the gender to categories"
      ],
      "metadata": {
        "id": "u6Gp_CLg6Q9r"
      },
      "execution_count": 8,
      "outputs": []
    },
    {
      "cell_type": "code",
      "source": [
        "print(x) # we can see that female is encoded to 0 and male to 1"
      ],
      "metadata": {
        "colab": {
          "base_uri": "https://localhost:8080/"
        },
        "id": "UL1nibEQ9jXi",
        "outputId": "53b6a9a3-56d1-4b2e-9509-3369ad0d43d5"
      },
      "execution_count": 9,
      "outputs": [
        {
          "output_type": "stream",
          "name": "stdout",
          "text": [
            "[[11 11 0 ... 3 4 0]\n",
            " [11 11 0 ... 3 2 1]\n",
            " [13 12 0 ... 3 6 1]\n",
            " ...\n",
            " [12 9 0 ... 1 6 0]\n",
            " [10 10 0 ... 4 6 1]\n",
            " [11 11 0 ... 4 4 1]]\n"
          ]
        }
      ]
    },
    {
      "cell_type": "markdown",
      "metadata": {
        "id": "vHol938cW8zd"
      },
      "source": [
        "### Splitting the dataset into the Training set and Test set"
      ]
    },
    {
      "cell_type": "code",
      "source": [
        "from sklearn.model_selection import train_test_split\n",
        "x_train, x_test, y_train, y_test = train_test_split(x, y, test_size = 0.2, random_state = 0)"
      ],
      "metadata": {
        "id": "9CWWoaPCALpO"
      },
      "execution_count": 10,
      "outputs": []
    },
    {
      "cell_type": "markdown",
      "metadata": {
        "id": "RE_FcHyfV3TQ"
      },
      "source": [
        "### Feature Scaling"
      ]
    },
    {
      "cell_type": "code",
      "source": [
        "# feature scaling is extremely IMPORTANT in DEEP LEARNING\n",
        "# feature scaling is so fundamental that we apply it to all the fetures of the dataset \n",
        "from sklearn.preprocessing import StandardScaler\n",
        "sc = StandardScaler()\n",
        "x_train = sc.fit_transform(x_train) # here we r not selecting any specific features as we are applying for all the columns\n",
        "x_test = sc.transform(x_test)"
      ],
      "metadata": {
        "id": "HV77ngPJAIwH"
      },
      "execution_count": 11,
      "outputs": []
    },
    {
      "cell_type": "code",
      "source": [
        "x_train"
      ],
      "metadata": {
        "colab": {
          "base_uri": "https://localhost:8080/"
        },
        "id": "aanylCadRvvx",
        "outputId": "403bb1f5-af12-46fd-c3e4-77767a2f03d2"
      },
      "execution_count": 12,
      "outputs": [
        {
          "output_type": "execute_result",
          "data": {
            "text/plain": [
              "array([[ 0.16090933,  0.04541223, -0.39303124, ...,  0.77849049,\n",
              "         0.03087478,  0.55138018],\n",
              "       [-1.87596729, -1.44629329,  1.23883446, ...,  0.77849049,\n",
              "        -0.81249421,  0.55138018],\n",
              "       [ 1.51882708,  1.53711774, -0.39303124, ...,  0.77849049,\n",
              "         0.03087478,  0.55138018],\n",
              "       ...,\n",
              "       [-0.85752898, -0.25292887, -0.39303124, ..., -0.18121631,\n",
              "         0.87424377,  0.55138018],\n",
              "       [-1.19700842, -0.84961108, -0.39303124, ...,  1.7381973 ,\n",
              "         0.03087478,  0.55138018],\n",
              "       [ 0.16090933,  0.34375333,  1.23883446, ..., -0.18121631,\n",
              "        -0.81249421, -1.81363067]])"
            ]
          },
          "metadata": {},
          "execution_count": 12
        }
      ]
    },
    {
      "cell_type": "markdown",
      "metadata": {
        "id": "-zfEzkRVXIwF"
      },
      "source": [
        "## Part 2 - Building the ANN"
      ]
    },
    {
      "cell_type": "markdown",
      "metadata": {
        "id": "KvdeScabXtlB"
      },
      "source": [
        "### Initializing the ANN"
      ]
    },
    {
      "cell_type": "code",
      "source": [
        "# first is to initialize ANN as sequence of layers\n",
        "# create a variable which will be the ANN itself\n",
        "# this variable will be created as an object of a certaon class and this class will be a sequential class\n",
        "# this class will help in building an ANN and a sequence of layers -- input layer, hidden layer and the output layer \n",
        "# the other type of Neural Network is a Computational Graph where the neurons connected in any way and NOT in sequential layers \n",
        "# examples of such NN are RESTRICTED BULLSMAN MACHINES OR DEEP BULLSMAN MACHINE\n",
        "ann = tf.keras.models.Sequential() # ann is an object of the Sequential class \n",
        "# Sequential is a class taken from the Keras library which is also part of Tensorflow\n",
        "# ann is an instance of the sequenial class"
      ],
      "metadata": {
        "id": "126U8rbWK6Wf"
      },
      "execution_count": 13,
      "outputs": []
    },
    {
      "cell_type": "markdown",
      "metadata": {
        "id": "rP6urV6SX7kS"
      },
      "source": [
        "### Adding the input layer and the first hidden layer"
      ]
    },
    {
      "cell_type": "code",
      "source": [
        "# dense class is used to build a fully connected network at any point in the NN \n",
        "ann.add(tf.keras.layers.Dense(units = 6, activation = \"relu\"))\n",
        "# add is a mehod in Sequential class\n",
        "# we will be adding a fully connected layer using the add method \n",
        "# this add method will be an instance(object) of the dense class\n",
        "# units in the Dense class corresponds to number of hidden neurons in the NN\n",
        "# there is no specific rule in finding the number of hidden neurons needed \n",
        "# it has to be found out by experimenting \n",
        "# acivation function in a fully connected neural network has to be the Rectifier function as we saw in the lectures\n",
        "# \"relu\" is the keyword for the rectifier function\n"
      ],
      "metadata": {
        "id": "idqXpImtSuhT"
      },
      "execution_count": 14,
      "outputs": []
    },
    {
      "cell_type": "markdown",
      "metadata": {
        "id": "BELWAc_8YJze"
      },
      "source": [
        "### Adding the second hidden layer"
      ]
    },
    {
      "cell_type": "code",
      "source": [
        "# as add() can add a hidden layer at any stage of the construction layer of a NN\n",
        "# we can use it to create another hidden layer \n",
        "# we can change the number of neurons here but lets keep it the same \n",
        "ann.add(tf.keras.layers.Dense(units = 6, activation = \"relu\"))"
      ],
      "metadata": {
        "id": "TDlskR2JSyxb"
      },
      "execution_count": 15,
      "outputs": []
    },
    {
      "cell_type": "markdown",
      "metadata": {
        "id": "OyNEe6RXYcU4"
      },
      "source": [
        "### Adding the output layer"
      ]
    },
    {
      "cell_type": "code",
      "source": [
        "# add() method can be used to add any layer including the output layer \n",
        "# as we want out output layer to be connected to the second hidden layer we are using the dense class\n",
        "ann.add(tf.keras.layers.Dense(units = 1, activation = \"linear\"))\n",
        "\n",
        "# if the classification is not binary then the classification has to be 'softmax'\n",
        "\n",
        "# now the number of units in this object depends on the dimension of the dependent variable\n",
        "# in our case the output for the dependent layer is either 1 or 0\n",
        "# so the dimension is one\n",
        "# but if the output was supposed to be either a, b or c then it would got converted into 111 101 100 something like that and it would have 3 dimensions\n",
        "# so now in our case the units is 1 as we need only 1 neuron\n",
        "\n",
        "# the activation function is a sigmoid activation function \n",
        "# we choose this activation function for the output layer as it not only gives the output but it also predicts the probability for that output to occur\n"
      ],
      "metadata": {
        "id": "0fXFTPYSTYJI"
      },
      "execution_count": 16,
      "outputs": []
    },
    {
      "cell_type": "markdown",
      "metadata": {
        "id": "JT4u2S1_Y4WG"
      },
      "source": [
        "## Part 3 - Training the ANN"
      ]
    },
    {
      "cell_type": "markdown",
      "metadata": {
        "id": "8GWlJChhY_ZI"
      },
      "source": [
        "### Compiling the ANN"
      ]
    },
    {
      "cell_type": "code",
      "source": [
        "# use the same method object and compile it using the compile method\n",
        "# optimizer , loss and the matrics are three parameters that go inside the compiler method \n",
        "\n",
        "opt = tf.keras.optimizers.RMSprop(0.001)\n",
        "\n",
        "ann.compile(optimizer=opt, loss = 'mse', metrics=['mae','mse','mape'])\n",
        "\n",
        "# optimizer helps in adjusting the weights and computing the cost function using the SDG method\n",
        "# adam optimizer is used so that it can reduce the loss in rhe next iteration \n",
        "\n",
        "# when we are doing classification involving binary then we have to use a specific loss called as 'binary_crossentropy'\n",
        "# if non-bianry classification is done then we have to enter loss as 'categorical_crossentropy'\n",
        "# In the case of regression problems where a quantity is predicted, it is common to use the mean squared error (MSE) loss function instead.\n",
        "\n",
        "\n",
        "# metrics is used to train the NN on the different bases \n",
        "# for now it is just accuracy"
      ],
      "metadata": {
        "id": "ES18iFBdZ93K"
      },
      "execution_count": 17,
      "outputs": []
    },
    {
      "cell_type": "markdown",
      "metadata": {
        "id": "0QR_G5u7ZLSM"
      },
      "source": [
        "### Training the ANN on the Training set"
      ]
    },
    {
      "cell_type": "code",
      "source": [
        "ann.fit(x_train, y_train, batch_size = 32, epochs = 300)\n",
        "\n",
        "# fit method is the method used to train the NN\n",
        "# infact fit method is used to train all the machine learning models\n",
        "\n",
        "# as batch learning is always efficient when training an ANN \n",
        "# instead of comparing the predictions to the real results one by one , compute and reduce the loss\n",
        "# we instead compare severeal predictions to several real results by making batches\n",
        "# so the batch_size gives the no. of batches that u will make to compare predicted to real results\n",
        "# by default we chose 32 but can chose any depending on experimenting  \n",
        "\n",
        "# a NN has to be trained based the number of EPOCHS to increase the accuracy over time\n",
        "# we can consider epochs as the no.of iterations the NN will take to learn properly and adopt the best fit weight "
      ],
      "metadata": {
        "colab": {
          "base_uri": "https://localhost:8080/"
        },
        "id": "tvliCPOxgxWB",
        "outputId": "57bc53bf-0ab8-4c01-98e2-673a31f43e61"
      },
      "execution_count": 18,
      "outputs": [
        {
          "output_type": "stream",
          "name": "stdout",
          "text": [
            "Epoch 1/300\n",
            "17/17 [==============================] - 1s 3ms/step - loss: 144.9176 - mae: 11.7775 - mse: 144.9176 - mape: 35081.4102\n",
            "Epoch 2/300\n",
            "17/17 [==============================] - 0s 2ms/step - loss: 140.7870 - mae: 11.5902 - mse: 140.7870 - mape: 168597.9844\n",
            "Epoch 3/300\n",
            "17/17 [==============================] - 0s 2ms/step - loss: 137.3740 - mae: 11.4310 - mse: 137.3740 - mape: 188910.6562\n",
            "Epoch 4/300\n",
            "17/17 [==============================] - 0s 2ms/step - loss: 134.0764 - mae: 11.2748 - mse: 134.0764 - mape: 409279.4375\n",
            "Epoch 5/300\n",
            "17/17 [==============================] - 0s 2ms/step - loss: 130.8624 - mae: 11.1168 - mse: 130.8624 - mape: 686684.8750\n",
            "Epoch 6/300\n",
            "17/17 [==============================] - 0s 2ms/step - loss: 127.5227 - mae: 10.9473 - mse: 127.5227 - mape: 803534.0000\n",
            "Epoch 7/300\n",
            "17/17 [==============================] - 0s 2ms/step - loss: 124.0795 - mae: 10.7717 - mse: 124.0795 - mape: 960551.4375\n",
            "Epoch 8/300\n",
            "17/17 [==============================] - 0s 2ms/step - loss: 120.5901 - mae: 10.5913 - mse: 120.5901 - mape: 1374912.5000\n",
            "Epoch 9/300\n",
            "17/17 [==============================] - 0s 2ms/step - loss: 117.0459 - mae: 10.4021 - mse: 117.0459 - mape: 1618473.2500\n",
            "Epoch 10/300\n",
            "17/17 [==============================] - 0s 2ms/step - loss: 113.3958 - mae: 10.2061 - mse: 113.3958 - mape: 1744797.0000\n",
            "Epoch 11/300\n",
            "17/17 [==============================] - 0s 2ms/step - loss: 109.7071 - mae: 10.0027 - mse: 109.7071 - mape: 1962085.6250\n",
            "Epoch 12/300\n",
            "17/17 [==============================] - 0s 2ms/step - loss: 105.9435 - mae: 9.7945 - mse: 105.9435 - mape: 2244953.7500\n",
            "Epoch 13/300\n",
            "17/17 [==============================] - 0s 2ms/step - loss: 102.1511 - mae: 9.5803 - mse: 102.1511 - mape: 2615558.2500\n",
            "Epoch 14/300\n",
            "17/17 [==============================] - 0s 2ms/step - loss: 98.1719 - mae: 9.3530 - mse: 98.1719 - mape: 2792838.7500\n",
            "Epoch 15/300\n",
            "17/17 [==============================] - 0s 2ms/step - loss: 94.0854 - mae: 9.1119 - mse: 94.0854 - mape: 3098640.0000\n",
            "Epoch 16/300\n",
            "17/17 [==============================] - 0s 2ms/step - loss: 89.7761 - mae: 8.8594 - mse: 89.7761 - mape: 3323468.2500\n",
            "Epoch 17/300\n",
            "17/17 [==============================] - 0s 2ms/step - loss: 85.2530 - mae: 8.5875 - mse: 85.2530 - mape: 3651646.7500\n",
            "Epoch 18/300\n",
            "17/17 [==============================] - 0s 3ms/step - loss: 80.6541 - mae: 8.3128 - mse: 80.6541 - mape: 4034985.7500\n",
            "Epoch 19/300\n",
            "17/17 [==============================] - 0s 2ms/step - loss: 75.8787 - mae: 8.0163 - mse: 75.8787 - mape: 4607526.5000\n",
            "Epoch 20/300\n",
            "17/17 [==============================] - 0s 2ms/step - loss: 71.1277 - mae: 7.7176 - mse: 71.1277 - mape: 5102824.5000\n",
            "Epoch 21/300\n",
            "17/17 [==============================] - 0s 3ms/step - loss: 66.3189 - mae: 7.4035 - mse: 66.3189 - mape: 5378497.0000\n",
            "Epoch 22/300\n",
            "17/17 [==============================] - 0s 2ms/step - loss: 61.4182 - mae: 7.0803 - mse: 61.4182 - mape: 6215631.5000\n",
            "Epoch 23/300\n",
            "17/17 [==============================] - 0s 2ms/step - loss: 56.5736 - mae: 6.7447 - mse: 56.5736 - mape: 6570746.5000\n",
            "Epoch 24/300\n",
            "17/17 [==============================] - 0s 2ms/step - loss: 51.7646 - mae: 6.3975 - mse: 51.7646 - mape: 7067893.0000\n",
            "Epoch 25/300\n",
            "17/17 [==============================] - 0s 2ms/step - loss: 47.0578 - mae: 6.0598 - mse: 47.0578 - mape: 7796187.0000\n",
            "Epoch 26/300\n",
            "17/17 [==============================] - 0s 2ms/step - loss: 42.4932 - mae: 5.7206 - mse: 42.4932 - mape: 8258311.0000\n",
            "Epoch 27/300\n",
            "17/17 [==============================] - 0s 2ms/step - loss: 37.9132 - mae: 5.3672 - mse: 37.9132 - mape: 8546569.0000\n",
            "Epoch 28/300\n",
            "17/17 [==============================] - 0s 2ms/step - loss: 33.4577 - mae: 5.0038 - mse: 33.4577 - mape: 9036658.0000\n",
            "Epoch 29/300\n",
            "17/17 [==============================] - 0s 2ms/step - loss: 29.2610 - mae: 4.6498 - mse: 29.2610 - mape: 9886302.0000\n",
            "Epoch 30/300\n",
            "17/17 [==============================] - 0s 2ms/step - loss: 25.2858 - mae: 4.2916 - mse: 25.2858 - mape: 10349921.0000\n",
            "Epoch 31/300\n",
            "17/17 [==============================] - 0s 2ms/step - loss: 21.5467 - mae: 3.9361 - mse: 21.5467 - mape: 11117472.0000\n",
            "Epoch 32/300\n",
            "17/17 [==============================] - 0s 2ms/step - loss: 18.1902 - mae: 3.5922 - mse: 18.1902 - mape: 11236000.0000\n",
            "Epoch 33/300\n",
            "17/17 [==============================] - 0s 2ms/step - loss: 15.1511 - mae: 3.2515 - mse: 15.1511 - mape: 12230396.0000\n",
            "Epoch 34/300\n",
            "17/17 [==============================] - 0s 2ms/step - loss: 12.5048 - mae: 2.9233 - mse: 12.5048 - mape: 12825234.0000\n",
            "Epoch 35/300\n",
            "17/17 [==============================] - 0s 2ms/step - loss: 10.2985 - mae: 2.6057 - mse: 10.2985 - mape: 13181588.0000\n",
            "Epoch 36/300\n",
            "17/17 [==============================] - 0s 4ms/step - loss: 8.4960 - mae: 2.3340 - mse: 8.4960 - mape: 13522288.0000\n",
            "Epoch 37/300\n",
            "17/17 [==============================] - 0s 2ms/step - loss: 7.1963 - mae: 2.1247 - mse: 7.1963 - mape: 14136076.0000\n",
            "Epoch 38/300\n",
            "17/17 [==============================] - 0s 2ms/step - loss: 6.2952 - mae: 1.9692 - mse: 6.2952 - mape: 14512158.0000\n",
            "Epoch 39/300\n",
            "17/17 [==============================] - 0s 2ms/step - loss: 5.6620 - mae: 1.8547 - mse: 5.6620 - mape: 14971625.0000\n",
            "Epoch 40/300\n",
            "17/17 [==============================] - 0s 2ms/step - loss: 5.2274 - mae: 1.7732 - mse: 5.2274 - mape: 15254499.0000\n",
            "Epoch 41/300\n",
            "17/17 [==============================] - 0s 2ms/step - loss: 4.8706 - mae: 1.7077 - mse: 4.8706 - mape: 15304559.0000\n",
            "Epoch 42/300\n",
            "17/17 [==============================] - 0s 3ms/step - loss: 4.5682 - mae: 1.6506 - mse: 4.5682 - mape: 15745138.0000\n",
            "Epoch 43/300\n",
            "17/17 [==============================] - 0s 2ms/step - loss: 4.3245 - mae: 1.6018 - mse: 4.3245 - mape: 15670431.0000\n",
            "Epoch 44/300\n",
            "17/17 [==============================] - 0s 2ms/step - loss: 4.1116 - mae: 1.5553 - mse: 4.1116 - mape: 15962908.0000\n",
            "Epoch 45/300\n",
            "17/17 [==============================] - 0s 2ms/step - loss: 3.9136 - mae: 1.5162 - mse: 3.9136 - mape: 16158676.0000\n",
            "Epoch 46/300\n",
            "17/17 [==============================] - 0s 2ms/step - loss: 3.7449 - mae: 1.4773 - mse: 3.7449 - mape: 16224490.0000\n",
            "Epoch 47/300\n",
            "17/17 [==============================] - 0s 2ms/step - loss: 3.5947 - mae: 1.4444 - mse: 3.5947 - mape: 16592063.0000\n",
            "Epoch 48/300\n",
            "17/17 [==============================] - 0s 2ms/step - loss: 3.4520 - mae: 1.4097 - mse: 3.4520 - mape: 16673291.0000\n",
            "Epoch 49/300\n",
            "17/17 [==============================] - 0s 2ms/step - loss: 3.3274 - mae: 1.3768 - mse: 3.3274 - mape: 16877758.0000\n",
            "Epoch 50/300\n",
            "17/17 [==============================] - 0s 2ms/step - loss: 3.2071 - mae: 1.3541 - mse: 3.2071 - mape: 16874078.0000\n",
            "Epoch 51/300\n",
            "17/17 [==============================] - 0s 2ms/step - loss: 3.1118 - mae: 1.3304 - mse: 3.1118 - mape: 17186292.0000\n",
            "Epoch 52/300\n",
            "17/17 [==============================] - 0s 2ms/step - loss: 3.0091 - mae: 1.3078 - mse: 3.0091 - mape: 17030864.0000\n",
            "Epoch 53/300\n",
            "17/17 [==============================] - 0s 2ms/step - loss: 2.9320 - mae: 1.2928 - mse: 2.9320 - mape: 17245900.0000\n",
            "Epoch 54/300\n",
            "17/17 [==============================] - 0s 2ms/step - loss: 2.8482 - mae: 1.2740 - mse: 2.8482 - mape: 17206306.0000\n",
            "Epoch 55/300\n",
            "17/17 [==============================] - 0s 2ms/step - loss: 2.7830 - mae: 1.2578 - mse: 2.7830 - mape: 17329090.0000\n",
            "Epoch 56/300\n",
            "17/17 [==============================] - 0s 2ms/step - loss: 2.7165 - mae: 1.2395 - mse: 2.7165 - mape: 17428518.0000\n",
            "Epoch 57/300\n",
            "17/17 [==============================] - 0s 2ms/step - loss: 2.6461 - mae: 1.2202 - mse: 2.6461 - mape: 17631986.0000\n",
            "Epoch 58/300\n",
            "17/17 [==============================] - 0s 2ms/step - loss: 2.5982 - mae: 1.2121 - mse: 2.5982 - mape: 17484640.0000\n",
            "Epoch 59/300\n",
            "17/17 [==============================] - 0s 2ms/step - loss: 2.5446 - mae: 1.1962 - mse: 2.5446 - mape: 17490540.0000\n",
            "Epoch 60/300\n",
            "17/17 [==============================] - 0s 2ms/step - loss: 2.4902 - mae: 1.1807 - mse: 2.4902 - mape: 17727066.0000\n",
            "Epoch 61/300\n",
            "17/17 [==============================] - 0s 2ms/step - loss: 2.4453 - mae: 1.1736 - mse: 2.4453 - mape: 17604238.0000\n",
            "Epoch 62/300\n",
            "17/17 [==============================] - 0s 2ms/step - loss: 2.3888 - mae: 1.1596 - mse: 2.3888 - mape: 17713946.0000\n",
            "Epoch 63/300\n",
            "17/17 [==============================] - 0s 3ms/step - loss: 2.3438 - mae: 1.1455 - mse: 2.3438 - mape: 17732212.0000\n",
            "Epoch 64/300\n",
            "17/17 [==============================] - 0s 2ms/step - loss: 2.3088 - mae: 1.1357 - mse: 2.3088 - mape: 17746838.0000\n",
            "Epoch 65/300\n",
            "17/17 [==============================] - 0s 2ms/step - loss: 2.2655 - mae: 1.1241 - mse: 2.2655 - mape: 17735900.0000\n",
            "Epoch 66/300\n",
            "17/17 [==============================] - 0s 2ms/step - loss: 2.2317 - mae: 1.1148 - mse: 2.2317 - mape: 17780826.0000\n",
            "Epoch 67/300\n",
            "17/17 [==============================] - 0s 2ms/step - loss: 2.1966 - mae: 1.1065 - mse: 2.1966 - mape: 17833990.0000\n",
            "Epoch 68/300\n",
            "17/17 [==============================] - 0s 2ms/step - loss: 2.1709 - mae: 1.1025 - mse: 2.1709 - mape: 17914822.0000\n",
            "Epoch 69/300\n",
            "17/17 [==============================] - 0s 2ms/step - loss: 2.1448 - mae: 1.0974 - mse: 2.1448 - mape: 17878408.0000\n",
            "Epoch 70/300\n",
            "17/17 [==============================] - 0s 2ms/step - loss: 2.1131 - mae: 1.0884 - mse: 2.1131 - mape: 17815918.0000\n",
            "Epoch 71/300\n",
            "17/17 [==============================] - 0s 2ms/step - loss: 2.0889 - mae: 1.0799 - mse: 2.0889 - mape: 17878694.0000\n",
            "Epoch 72/300\n",
            "17/17 [==============================] - 0s 2ms/step - loss: 2.0680 - mae: 1.0772 - mse: 2.0680 - mape: 17993840.0000\n",
            "Epoch 73/300\n",
            "17/17 [==============================] - 0s 2ms/step - loss: 2.0369 - mae: 1.0686 - mse: 2.0369 - mape: 17982514.0000\n",
            "Epoch 74/300\n",
            "17/17 [==============================] - 0s 2ms/step - loss: 2.0250 - mae: 1.0643 - mse: 2.0250 - mape: 17984856.0000\n",
            "Epoch 75/300\n",
            "17/17 [==============================] - 0s 2ms/step - loss: 2.0089 - mae: 1.0574 - mse: 2.0089 - mape: 18078822.0000\n",
            "Epoch 76/300\n",
            "17/17 [==============================] - 0s 2ms/step - loss: 1.9949 - mae: 1.0535 - mse: 1.9949 - mape: 18175454.0000\n",
            "Epoch 77/300\n",
            "17/17 [==============================] - 0s 2ms/step - loss: 1.9771 - mae: 1.0515 - mse: 1.9771 - mape: 17963356.0000\n",
            "Epoch 78/300\n",
            "17/17 [==============================] - 0s 2ms/step - loss: 1.9665 - mae: 1.0457 - mse: 1.9665 - mape: 18232702.0000\n",
            "Epoch 79/300\n",
            "17/17 [==============================] - 0s 2ms/step - loss: 1.9445 - mae: 1.0378 - mse: 1.9445 - mape: 18228632.0000\n",
            "Epoch 80/300\n",
            "17/17 [==============================] - 0s 2ms/step - loss: 1.9350 - mae: 1.0356 - mse: 1.9350 - mape: 18076294.0000\n",
            "Epoch 81/300\n",
            "17/17 [==============================] - 0s 2ms/step - loss: 1.9230 - mae: 1.0309 - mse: 1.9230 - mape: 18093534.0000\n",
            "Epoch 82/300\n",
            "17/17 [==============================] - 0s 2ms/step - loss: 1.9135 - mae: 1.0315 - mse: 1.9135 - mape: 18400162.0000\n",
            "Epoch 83/300\n",
            "17/17 [==============================] - 0s 2ms/step - loss: 1.8996 - mae: 1.0292 - mse: 1.8996 - mape: 18189540.0000\n",
            "Epoch 84/300\n",
            "17/17 [==============================] - 0s 2ms/step - loss: 1.8791 - mae: 1.0204 - mse: 1.8791 - mape: 18438398.0000\n",
            "Epoch 85/300\n",
            "17/17 [==============================] - 0s 2ms/step - loss: 1.8789 - mae: 1.0242 - mse: 1.8789 - mape: 18185320.0000\n",
            "Epoch 86/300\n",
            "17/17 [==============================] - 0s 2ms/step - loss: 1.8676 - mae: 1.0194 - mse: 1.8676 - mape: 18385334.0000\n",
            "Epoch 87/300\n",
            "17/17 [==============================] - 0s 2ms/step - loss: 1.8537 - mae: 1.0150 - mse: 1.8537 - mape: 18209512.0000\n",
            "Epoch 88/300\n",
            "17/17 [==============================] - 0s 2ms/step - loss: 1.8625 - mae: 1.0169 - mse: 1.8625 - mape: 18332916.0000\n",
            "Epoch 89/300\n",
            "17/17 [==============================] - 0s 2ms/step - loss: 1.8416 - mae: 1.0127 - mse: 1.8416 - mape: 18301036.0000\n",
            "Epoch 90/300\n",
            "17/17 [==============================] - 0s 2ms/step - loss: 1.8330 - mae: 1.0114 - mse: 1.8330 - mape: 18318958.0000\n",
            "Epoch 91/300\n",
            "17/17 [==============================] - 0s 2ms/step - loss: 1.8267 - mae: 1.0101 - mse: 1.8267 - mape: 18253738.0000\n",
            "Epoch 92/300\n",
            "17/17 [==============================] - 0s 2ms/step - loss: 1.8230 - mae: 1.0060 - mse: 1.8230 - mape: 18312234.0000\n",
            "Epoch 93/300\n",
            "17/17 [==============================] - 0s 2ms/step - loss: 1.8170 - mae: 1.0070 - mse: 1.8170 - mape: 18407398.0000\n",
            "Epoch 94/300\n",
            "17/17 [==============================] - 0s 2ms/step - loss: 1.8106 - mae: 1.0063 - mse: 1.8106 - mape: 18505766.0000\n",
            "Epoch 95/300\n",
            "17/17 [==============================] - 0s 2ms/step - loss: 1.8013 - mae: 1.0008 - mse: 1.8013 - mape: 18515270.0000\n",
            "Epoch 96/300\n",
            "17/17 [==============================] - 0s 2ms/step - loss: 1.7997 - mae: 1.0003 - mse: 1.7997 - mape: 18377876.0000\n",
            "Epoch 97/300\n",
            "17/17 [==============================] - 0s 2ms/step - loss: 1.7972 - mae: 1.0008 - mse: 1.7972 - mape: 18374132.0000\n",
            "Epoch 98/300\n",
            "17/17 [==============================] - 0s 2ms/step - loss: 1.7908 - mae: 1.0003 - mse: 1.7908 - mape: 18305846.0000\n",
            "Epoch 99/300\n",
            "17/17 [==============================] - 0s 2ms/step - loss: 1.7863 - mae: 0.9979 - mse: 1.7863 - mape: 18443436.0000\n",
            "Epoch 100/300\n",
            "17/17 [==============================] - 0s 2ms/step - loss: 1.7803 - mae: 0.9971 - mse: 1.7803 - mape: 18355748.0000\n",
            "Epoch 101/300\n",
            "17/17 [==============================] - 0s 2ms/step - loss: 1.7771 - mae: 0.9944 - mse: 1.7771 - mape: 18488388.0000\n",
            "Epoch 102/300\n",
            "17/17 [==============================] - 0s 2ms/step - loss: 1.7697 - mae: 0.9904 - mse: 1.7697 - mape: 18493944.0000\n",
            "Epoch 103/300\n",
            "17/17 [==============================] - 0s 2ms/step - loss: 1.7648 - mae: 0.9927 - mse: 1.7648 - mape: 18407788.0000\n",
            "Epoch 104/300\n",
            "17/17 [==============================] - 0s 2ms/step - loss: 1.7585 - mae: 0.9927 - mse: 1.7585 - mape: 18449200.0000\n",
            "Epoch 105/300\n",
            "17/17 [==============================] - 0s 2ms/step - loss: 1.7584 - mae: 0.9913 - mse: 1.7584 - mape: 18568332.0000\n",
            "Epoch 106/300\n",
            "17/17 [==============================] - 0s 3ms/step - loss: 1.7602 - mae: 0.9905 - mse: 1.7602 - mape: 18416064.0000\n",
            "Epoch 107/300\n",
            "17/17 [==============================] - 0s 2ms/step - loss: 1.7566 - mae: 0.9877 - mse: 1.7566 - mape: 18614726.0000\n",
            "Epoch 108/300\n",
            "17/17 [==============================] - 0s 2ms/step - loss: 1.7460 - mae: 0.9867 - mse: 1.7460 - mape: 18623166.0000\n",
            "Epoch 109/300\n",
            "17/17 [==============================] - 0s 2ms/step - loss: 1.7449 - mae: 0.9865 - mse: 1.7449 - mape: 18456956.0000\n",
            "Epoch 110/300\n",
            "17/17 [==============================] - 0s 2ms/step - loss: 1.7446 - mae: 0.9879 - mse: 1.7446 - mape: 18566182.0000\n",
            "Epoch 111/300\n",
            "17/17 [==============================] - 0s 2ms/step - loss: 1.7370 - mae: 0.9839 - mse: 1.7370 - mape: 18556888.0000\n",
            "Epoch 112/300\n",
            "17/17 [==============================] - 0s 2ms/step - loss: 1.7373 - mae: 0.9845 - mse: 1.7373 - mape: 18647902.0000\n",
            "Epoch 113/300\n",
            "17/17 [==============================] - 0s 2ms/step - loss: 1.7341 - mae: 0.9828 - mse: 1.7341 - mape: 18663854.0000\n",
            "Epoch 114/300\n",
            "17/17 [==============================] - 0s 2ms/step - loss: 1.7245 - mae: 0.9776 - mse: 1.7245 - mape: 18541958.0000\n",
            "Epoch 115/300\n",
            "17/17 [==============================] - 0s 2ms/step - loss: 1.7223 - mae: 0.9806 - mse: 1.7223 - mape: 18712358.0000\n",
            "Epoch 116/300\n",
            "17/17 [==============================] - 0s 2ms/step - loss: 1.7251 - mae: 0.9798 - mse: 1.7251 - mape: 18496398.0000\n",
            "Epoch 117/300\n",
            "17/17 [==============================] - 0s 2ms/step - loss: 1.7167 - mae: 0.9783 - mse: 1.7167 - mape: 18589914.0000\n",
            "Epoch 118/300\n",
            "17/17 [==============================] - 0s 2ms/step - loss: 1.7168 - mae: 0.9788 - mse: 1.7168 - mape: 18734252.0000\n",
            "Epoch 119/300\n",
            "17/17 [==============================] - 0s 2ms/step - loss: 1.7125 - mae: 0.9794 - mse: 1.7125 - mape: 18647534.0000\n",
            "Epoch 120/300\n",
            "17/17 [==============================] - 0s 2ms/step - loss: 1.7090 - mae: 0.9771 - mse: 1.7090 - mape: 18635642.0000\n",
            "Epoch 121/300\n",
            "17/17 [==============================] - 0s 2ms/step - loss: 1.7032 - mae: 0.9732 - mse: 1.7032 - mape: 18642712.0000\n",
            "Epoch 122/300\n",
            "17/17 [==============================] - 0s 2ms/step - loss: 1.6967 - mae: 0.9686 - mse: 1.6967 - mape: 18799100.0000\n",
            "Epoch 123/300\n",
            "17/17 [==============================] - 0s 2ms/step - loss: 1.7009 - mae: 0.9742 - mse: 1.7009 - mape: 18683248.0000\n",
            "Epoch 124/300\n",
            "17/17 [==============================] - 0s 2ms/step - loss: 1.6941 - mae: 0.9723 - mse: 1.6941 - mape: 18733614.0000\n",
            "Epoch 125/300\n",
            "17/17 [==============================] - 0s 2ms/step - loss: 1.6987 - mae: 0.9738 - mse: 1.6987 - mape: 18591126.0000\n",
            "Epoch 126/300\n",
            "17/17 [==============================] - 0s 2ms/step - loss: 1.6864 - mae: 0.9708 - mse: 1.6864 - mape: 18864012.0000\n",
            "Epoch 127/300\n",
            "17/17 [==============================] - 0s 2ms/step - loss: 1.6949 - mae: 0.9716 - mse: 1.6949 - mape: 18710020.0000\n",
            "Epoch 128/300\n",
            "17/17 [==============================] - 0s 2ms/step - loss: 1.6838 - mae: 0.9692 - mse: 1.6838 - mape: 18753226.0000\n",
            "Epoch 129/300\n",
            "17/17 [==============================] - 0s 2ms/step - loss: 1.6842 - mae: 0.9713 - mse: 1.6842 - mape: 18599892.0000\n",
            "Epoch 130/300\n",
            "17/17 [==============================] - 0s 2ms/step - loss: 1.6791 - mae: 0.9680 - mse: 1.6791 - mape: 18708180.0000\n",
            "Epoch 131/300\n",
            "17/17 [==============================] - 0s 2ms/step - loss: 1.6727 - mae: 0.9671 - mse: 1.6727 - mape: 18719900.0000\n",
            "Epoch 132/300\n",
            "17/17 [==============================] - 0s 2ms/step - loss: 1.6779 - mae: 0.9688 - mse: 1.6779 - mape: 18811696.0000\n",
            "Epoch 133/300\n",
            "17/17 [==============================] - 0s 2ms/step - loss: 1.6699 - mae: 0.9693 - mse: 1.6699 - mape: 18747642.0000\n",
            "Epoch 134/300\n",
            "17/17 [==============================] - 0s 2ms/step - loss: 1.6707 - mae: 0.9679 - mse: 1.6707 - mape: 18820178.0000\n",
            "Epoch 135/300\n",
            "17/17 [==============================] - 0s 2ms/step - loss: 1.6660 - mae: 0.9628 - mse: 1.6660 - mape: 18657762.0000\n",
            "Epoch 136/300\n",
            "17/17 [==============================] - 0s 2ms/step - loss: 1.6637 - mae: 0.9626 - mse: 1.6637 - mape: 18863730.0000\n",
            "Epoch 137/300\n",
            "17/17 [==============================] - 0s 2ms/step - loss: 1.6543 - mae: 0.9638 - mse: 1.6543 - mape: 18722826.0000\n",
            "Epoch 138/300\n",
            "17/17 [==============================] - 0s 2ms/step - loss: 1.6597 - mae: 0.9628 - mse: 1.6597 - mape: 18892606.0000\n",
            "Epoch 139/300\n",
            "17/17 [==============================] - 0s 2ms/step - loss: 1.6543 - mae: 0.9610 - mse: 1.6543 - mape: 18820732.0000\n",
            "Epoch 140/300\n",
            "17/17 [==============================] - 0s 2ms/step - loss: 1.6489 - mae: 0.9606 - mse: 1.6489 - mape: 18667266.0000\n",
            "Epoch 141/300\n",
            "17/17 [==============================] - 0s 2ms/step - loss: 1.6476 - mae: 0.9579 - mse: 1.6476 - mape: 18736114.0000\n",
            "Epoch 142/300\n",
            "17/17 [==============================] - 0s 2ms/step - loss: 1.6379 - mae: 0.9570 - mse: 1.6379 - mape: 18823022.0000\n",
            "Epoch 143/300\n",
            "17/17 [==============================] - 0s 2ms/step - loss: 1.6349 - mae: 0.9561 - mse: 1.6349 - mape: 18973840.0000\n",
            "Epoch 144/300\n",
            "17/17 [==============================] - 0s 2ms/step - loss: 1.6387 - mae: 0.9583 - mse: 1.6387 - mape: 18878286.0000\n",
            "Epoch 145/300\n",
            "17/17 [==============================] - 0s 2ms/step - loss: 1.6281 - mae: 0.9584 - mse: 1.6281 - mape: 18777480.0000\n",
            "Epoch 146/300\n",
            "17/17 [==============================] - 0s 2ms/step - loss: 1.6289 - mae: 0.9570 - mse: 1.6289 - mape: 18921262.0000\n",
            "Epoch 147/300\n",
            "17/17 [==============================] - 0s 2ms/step - loss: 1.6181 - mae: 0.9550 - mse: 1.6181 - mape: 18681140.0000\n",
            "Epoch 148/300\n",
            "17/17 [==============================] - 0s 2ms/step - loss: 1.6264 - mae: 0.9561 - mse: 1.6264 - mape: 18932874.0000\n",
            "Epoch 149/300\n",
            "17/17 [==============================] - 0s 2ms/step - loss: 1.6189 - mae: 0.9550 - mse: 1.6189 - mape: 18867482.0000\n",
            "Epoch 150/300\n",
            "17/17 [==============================] - 0s 2ms/step - loss: 1.6104 - mae: 0.9521 - mse: 1.6104 - mape: 18876880.0000\n",
            "Epoch 151/300\n",
            "17/17 [==============================] - 0s 3ms/step - loss: 1.6160 - mae: 0.9558 - mse: 1.6160 - mape: 18823408.0000\n",
            "Epoch 152/300\n",
            "17/17 [==============================] - 0s 2ms/step - loss: 1.6066 - mae: 0.9525 - mse: 1.6066 - mape: 18912486.0000\n",
            "Epoch 153/300\n",
            "17/17 [==============================] - 0s 2ms/step - loss: 1.6057 - mae: 0.9514 - mse: 1.6057 - mape: 18981542.0000\n",
            "Epoch 154/300\n",
            "17/17 [==============================] - 0s 2ms/step - loss: 1.5963 - mae: 0.9477 - mse: 1.5963 - mape: 19107908.0000\n",
            "Epoch 155/300\n",
            "17/17 [==============================] - 0s 2ms/step - loss: 1.5984 - mae: 0.9499 - mse: 1.5984 - mape: 18968064.0000\n",
            "Epoch 156/300\n",
            "17/17 [==============================] - 0s 2ms/step - loss: 1.5914 - mae: 0.9501 - mse: 1.5914 - mape: 18827018.0000\n",
            "Epoch 157/300\n",
            "17/17 [==============================] - 0s 2ms/step - loss: 1.5895 - mae: 0.9496 - mse: 1.5895 - mape: 18818780.0000\n",
            "Epoch 158/300\n",
            "17/17 [==============================] - 0s 2ms/step - loss: 1.5835 - mae: 0.9478 - mse: 1.5835 - mape: 19131838.0000\n",
            "Epoch 159/300\n",
            "17/17 [==============================] - 0s 2ms/step - loss: 1.5848 - mae: 0.9458 - mse: 1.5848 - mape: 19091402.0000\n",
            "Epoch 160/300\n",
            "17/17 [==============================] - 0s 2ms/step - loss: 1.5890 - mae: 0.9477 - mse: 1.5890 - mape: 19235900.0000\n",
            "Epoch 161/300\n",
            "17/17 [==============================] - 0s 2ms/step - loss: 1.5772 - mae: 0.9430 - mse: 1.5772 - mape: 19105952.0000\n",
            "Epoch 162/300\n",
            "17/17 [==============================] - 0s 2ms/step - loss: 1.5753 - mae: 0.9443 - mse: 1.5753 - mape: 19161798.0000\n",
            "Epoch 163/300\n",
            "17/17 [==============================] - 0s 2ms/step - loss: 1.5724 - mae: 0.9448 - mse: 1.5724 - mape: 19105352.0000\n",
            "Epoch 164/300\n",
            "17/17 [==============================] - 0s 2ms/step - loss: 1.5703 - mae: 0.9439 - mse: 1.5703 - mape: 18873564.0000\n",
            "Epoch 165/300\n",
            "17/17 [==============================] - 0s 2ms/step - loss: 1.5741 - mae: 0.9438 - mse: 1.5741 - mape: 19065196.0000\n",
            "Epoch 166/300\n",
            "17/17 [==============================] - 0s 2ms/step - loss: 1.5629 - mae: 0.9400 - mse: 1.5629 - mape: 18978440.0000\n",
            "Epoch 167/300\n",
            "17/17 [==============================] - 0s 2ms/step - loss: 1.5639 - mae: 0.9396 - mse: 1.5639 - mape: 19113032.0000\n",
            "Epoch 168/300\n",
            "17/17 [==============================] - 0s 2ms/step - loss: 1.5583 - mae: 0.9408 - mse: 1.5583 - mape: 19016916.0000\n",
            "Epoch 169/300\n",
            "17/17 [==============================] - 0s 2ms/step - loss: 1.5630 - mae: 0.9417 - mse: 1.5630 - mape: 19067848.0000\n",
            "Epoch 170/300\n",
            "17/17 [==============================] - 0s 2ms/step - loss: 1.5568 - mae: 0.9383 - mse: 1.5568 - mape: 19160554.0000\n",
            "Epoch 171/300\n",
            "17/17 [==============================] - 0s 2ms/step - loss: 1.5525 - mae: 0.9375 - mse: 1.5525 - mape: 19131534.0000\n",
            "Epoch 172/300\n",
            "17/17 [==============================] - 0s 3ms/step - loss: 1.5534 - mae: 0.9394 - mse: 1.5534 - mape: 19093496.0000\n",
            "Epoch 173/300\n",
            "17/17 [==============================] - 0s 2ms/step - loss: 1.5535 - mae: 0.9373 - mse: 1.5535 - mape: 19118810.0000\n",
            "Epoch 174/300\n",
            "17/17 [==============================] - 0s 2ms/step - loss: 1.5452 - mae: 0.9353 - mse: 1.5452 - mape: 19249692.0000\n",
            "Epoch 175/300\n",
            "17/17 [==============================] - 0s 2ms/step - loss: 1.5437 - mae: 0.9358 - mse: 1.5437 - mape: 19181070.0000\n",
            "Epoch 176/300\n",
            "17/17 [==============================] - 0s 2ms/step - loss: 1.5408 - mae: 0.9345 - mse: 1.5408 - mape: 19158466.0000\n",
            "Epoch 177/300\n",
            "17/17 [==============================] - 0s 2ms/step - loss: 1.5400 - mae: 0.9324 - mse: 1.5400 - mape: 19305610.0000\n",
            "Epoch 178/300\n",
            "17/17 [==============================] - 0s 2ms/step - loss: 1.5355 - mae: 0.9315 - mse: 1.5355 - mape: 19415638.0000\n",
            "Epoch 179/300\n",
            "17/17 [==============================] - 0s 2ms/step - loss: 1.5372 - mae: 0.9355 - mse: 1.5372 - mape: 19192336.0000\n",
            "Epoch 180/300\n",
            "17/17 [==============================] - 0s 2ms/step - loss: 1.5286 - mae: 0.9301 - mse: 1.5286 - mape: 19286502.0000\n",
            "Epoch 181/300\n",
            "17/17 [==============================] - 0s 2ms/step - loss: 1.5355 - mae: 0.9346 - mse: 1.5355 - mape: 19290456.0000\n",
            "Epoch 182/300\n",
            "17/17 [==============================] - 0s 2ms/step - loss: 1.5303 - mae: 0.9303 - mse: 1.5303 - mape: 19369314.0000\n",
            "Epoch 183/300\n",
            "17/17 [==============================] - 0s 2ms/step - loss: 1.5285 - mae: 0.9310 - mse: 1.5285 - mape: 19263112.0000\n",
            "Epoch 184/300\n",
            "17/17 [==============================] - 0s 2ms/step - loss: 1.5288 - mae: 0.9294 - mse: 1.5288 - mape: 19399046.0000\n",
            "Epoch 185/300\n",
            "17/17 [==============================] - 0s 2ms/step - loss: 1.5190 - mae: 0.9277 - mse: 1.5190 - mape: 19335442.0000\n",
            "Epoch 186/300\n",
            "17/17 [==============================] - 0s 2ms/step - loss: 1.5203 - mae: 0.9286 - mse: 1.5203 - mape: 19309914.0000\n",
            "Epoch 187/300\n",
            "17/17 [==============================] - 0s 2ms/step - loss: 1.5166 - mae: 0.9244 - mse: 1.5166 - mape: 19489976.0000\n",
            "Epoch 188/300\n",
            "17/17 [==============================] - 0s 2ms/step - loss: 1.5141 - mae: 0.9266 - mse: 1.5141 - mape: 19157658.0000\n",
            "Epoch 189/300\n",
            "17/17 [==============================] - 0s 2ms/step - loss: 1.5189 - mae: 0.9294 - mse: 1.5189 - mape: 19392752.0000\n",
            "Epoch 190/300\n",
            "17/17 [==============================] - 0s 2ms/step - loss: 1.5161 - mae: 0.9254 - mse: 1.5161 - mape: 19436180.0000\n",
            "Epoch 191/300\n",
            "17/17 [==============================] - 0s 2ms/step - loss: 1.5142 - mae: 0.9267 - mse: 1.5142 - mape: 19337798.0000\n",
            "Epoch 192/300\n",
            "17/17 [==============================] - 0s 2ms/step - loss: 1.5104 - mae: 0.9233 - mse: 1.5104 - mape: 19317440.0000\n",
            "Epoch 193/300\n",
            "17/17 [==============================] - 0s 3ms/step - loss: 1.5109 - mae: 0.9262 - mse: 1.5109 - mape: 19312498.0000\n",
            "Epoch 194/300\n",
            "17/17 [==============================] - 0s 2ms/step - loss: 1.5078 - mae: 0.9250 - mse: 1.5078 - mape: 19337130.0000\n",
            "Epoch 195/300\n",
            "17/17 [==============================] - 0s 2ms/step - loss: 1.5073 - mae: 0.9262 - mse: 1.5073 - mape: 19282248.0000\n",
            "Epoch 196/300\n",
            "17/17 [==============================] - 0s 2ms/step - loss: 1.5074 - mae: 0.9229 - mse: 1.5074 - mape: 19419604.0000\n",
            "Epoch 197/300\n",
            "17/17 [==============================] - 0s 2ms/step - loss: 1.5038 - mae: 0.9238 - mse: 1.5038 - mape: 19318564.0000\n",
            "Epoch 198/300\n",
            "17/17 [==============================] - 0s 2ms/step - loss: 1.5013 - mae: 0.9248 - mse: 1.5013 - mape: 19435300.0000\n",
            "Epoch 199/300\n",
            "17/17 [==============================] - 0s 2ms/step - loss: 1.5030 - mae: 0.9241 - mse: 1.5030 - mape: 19362564.0000\n",
            "Epoch 200/300\n",
            "17/17 [==============================] - 0s 2ms/step - loss: 1.4978 - mae: 0.9236 - mse: 1.4978 - mape: 19410164.0000\n",
            "Epoch 201/300\n",
            "17/17 [==============================] - 0s 2ms/step - loss: 1.4973 - mae: 0.9236 - mse: 1.4973 - mape: 19461290.0000\n",
            "Epoch 202/300\n",
            "17/17 [==============================] - 0s 2ms/step - loss: 1.4985 - mae: 0.9224 - mse: 1.4985 - mape: 19435528.0000\n",
            "Epoch 203/300\n",
            "17/17 [==============================] - 0s 2ms/step - loss: 1.4978 - mae: 0.9231 - mse: 1.4978 - mape: 19496968.0000\n",
            "Epoch 204/300\n",
            "17/17 [==============================] - 0s 2ms/step - loss: 1.4958 - mae: 0.9224 - mse: 1.4958 - mape: 19383174.0000\n",
            "Epoch 205/300\n",
            "17/17 [==============================] - 0s 2ms/step - loss: 1.4924 - mae: 0.9202 - mse: 1.4924 - mape: 19402502.0000\n",
            "Epoch 206/300\n",
            "17/17 [==============================] - 0s 2ms/step - loss: 1.4852 - mae: 0.9216 - mse: 1.4852 - mape: 19475238.0000\n",
            "Epoch 207/300\n",
            "17/17 [==============================] - 0s 2ms/step - loss: 1.4865 - mae: 0.9195 - mse: 1.4865 - mape: 19369396.0000\n",
            "Epoch 208/300\n",
            "17/17 [==============================] - 0s 2ms/step - loss: 1.4902 - mae: 0.9168 - mse: 1.4902 - mape: 19384754.0000\n",
            "Epoch 209/300\n",
            "17/17 [==============================] - 0s 2ms/step - loss: 1.4855 - mae: 0.9193 - mse: 1.4855 - mape: 19464202.0000\n",
            "Epoch 210/300\n",
            "17/17 [==============================] - 0s 2ms/step - loss: 1.4860 - mae: 0.9218 - mse: 1.4860 - mape: 19423118.0000\n",
            "Epoch 211/300\n",
            "17/17 [==============================] - 0s 2ms/step - loss: 1.4869 - mae: 0.9199 - mse: 1.4869 - mape: 19482844.0000\n",
            "Epoch 212/300\n",
            "17/17 [==============================] - 0s 2ms/step - loss: 1.4825 - mae: 0.9175 - mse: 1.4825 - mape: 19610942.0000\n",
            "Epoch 213/300\n",
            "17/17 [==============================] - 0s 2ms/step - loss: 1.4830 - mae: 0.9182 - mse: 1.4830 - mape: 19486340.0000\n",
            "Epoch 214/300\n",
            "17/17 [==============================] - 0s 2ms/step - loss: 1.4852 - mae: 0.9239 - mse: 1.4852 - mape: 19399858.0000\n",
            "Epoch 215/300\n",
            "17/17 [==============================] - 0s 3ms/step - loss: 1.4811 - mae: 0.9187 - mse: 1.4811 - mape: 19425690.0000\n",
            "Epoch 216/300\n",
            "17/17 [==============================] - 0s 2ms/step - loss: 1.4812 - mae: 0.9183 - mse: 1.4812 - mape: 19498336.0000\n",
            "Epoch 217/300\n",
            "17/17 [==============================] - 0s 2ms/step - loss: 1.4777 - mae: 0.9171 - mse: 1.4777 - mape: 19499036.0000\n",
            "Epoch 218/300\n",
            "17/17 [==============================] - 0s 2ms/step - loss: 1.4782 - mae: 0.9179 - mse: 1.4782 - mape: 19505670.0000\n",
            "Epoch 219/300\n",
            "17/17 [==============================] - 0s 2ms/step - loss: 1.4720 - mae: 0.9168 - mse: 1.4720 - mape: 19378674.0000\n",
            "Epoch 220/300\n",
            "17/17 [==============================] - 0s 2ms/step - loss: 1.4691 - mae: 0.9141 - mse: 1.4691 - mape: 19508864.0000\n",
            "Epoch 221/300\n",
            "17/17 [==============================] - 0s 2ms/step - loss: 1.4705 - mae: 0.9146 - mse: 1.4705 - mape: 19370354.0000\n",
            "Epoch 222/300\n",
            "17/17 [==============================] - 0s 2ms/step - loss: 1.4650 - mae: 0.9141 - mse: 1.4650 - mape: 19451960.0000\n",
            "Epoch 223/300\n",
            "17/17 [==============================] - 0s 2ms/step - loss: 1.4685 - mae: 0.9165 - mse: 1.4685 - mape: 19405372.0000\n",
            "Epoch 224/300\n",
            "17/17 [==============================] - 0s 3ms/step - loss: 1.4711 - mae: 0.9146 - mse: 1.4711 - mape: 19526722.0000\n",
            "Epoch 225/300\n",
            "17/17 [==============================] - 0s 2ms/step - loss: 1.4568 - mae: 0.9116 - mse: 1.4568 - mape: 19465932.0000\n",
            "Epoch 226/300\n",
            "17/17 [==============================] - 0s 2ms/step - loss: 1.4671 - mae: 0.9160 - mse: 1.4671 - mape: 19286690.0000\n",
            "Epoch 227/300\n",
            "17/17 [==============================] - 0s 2ms/step - loss: 1.4636 - mae: 0.9127 - mse: 1.4636 - mape: 19443166.0000\n",
            "Epoch 228/300\n",
            "17/17 [==============================] - 0s 2ms/step - loss: 1.4619 - mae: 0.9125 - mse: 1.4619 - mape: 19478516.0000\n",
            "Epoch 229/300\n",
            "17/17 [==============================] - 0s 2ms/step - loss: 1.4588 - mae: 0.9094 - mse: 1.4588 - mape: 19514836.0000\n",
            "Epoch 230/300\n",
            "17/17 [==============================] - 0s 2ms/step - loss: 1.4611 - mae: 0.9136 - mse: 1.4611 - mape: 19268056.0000\n",
            "Epoch 231/300\n",
            "17/17 [==============================] - 0s 2ms/step - loss: 1.4522 - mae: 0.9091 - mse: 1.4522 - mape: 19374098.0000\n",
            "Epoch 232/300\n",
            "17/17 [==============================] - 0s 2ms/step - loss: 1.4511 - mae: 0.9102 - mse: 1.4511 - mape: 19514598.0000\n",
            "Epoch 233/300\n",
            "17/17 [==============================] - 0s 2ms/step - loss: 1.4554 - mae: 0.9101 - mse: 1.4554 - mape: 19318278.0000\n",
            "Epoch 234/300\n",
            "17/17 [==============================] - 0s 2ms/step - loss: 1.4521 - mae: 0.9092 - mse: 1.4521 - mape: 19415948.0000\n",
            "Epoch 235/300\n",
            "17/17 [==============================] - 0s 2ms/step - loss: 1.4509 - mae: 0.9104 - mse: 1.4509 - mape: 19397552.0000\n",
            "Epoch 236/300\n",
            "17/17 [==============================] - 0s 3ms/step - loss: 1.4520 - mae: 0.9107 - mse: 1.4520 - mape: 19365858.0000\n",
            "Epoch 237/300\n",
            "17/17 [==============================] - 0s 2ms/step - loss: 1.4468 - mae: 0.9101 - mse: 1.4468 - mape: 19508444.0000\n",
            "Epoch 238/300\n",
            "17/17 [==============================] - 0s 2ms/step - loss: 1.4475 - mae: 0.9099 - mse: 1.4475 - mape: 19343200.0000\n",
            "Epoch 239/300\n",
            "17/17 [==============================] - 0s 2ms/step - loss: 1.4489 - mae: 0.9101 - mse: 1.4489 - mape: 19582594.0000\n",
            "Epoch 240/300\n",
            "17/17 [==============================] - 0s 2ms/step - loss: 1.4471 - mae: 0.9101 - mse: 1.4471 - mape: 19564536.0000\n",
            "Epoch 241/300\n",
            "17/17 [==============================] - 0s 2ms/step - loss: 1.4429 - mae: 0.9091 - mse: 1.4429 - mape: 19528838.0000\n",
            "Epoch 242/300\n",
            "17/17 [==============================] - 0s 2ms/step - loss: 1.4416 - mae: 0.9077 - mse: 1.4416 - mape: 19591176.0000\n",
            "Epoch 243/300\n",
            "17/17 [==============================] - 0s 2ms/step - loss: 1.4381 - mae: 0.9046 - mse: 1.4381 - mape: 19414308.0000\n",
            "Epoch 244/300\n",
            "17/17 [==============================] - 0s 2ms/step - loss: 1.4383 - mae: 0.9062 - mse: 1.4383 - mape: 19419456.0000\n",
            "Epoch 245/300\n",
            "17/17 [==============================] - 0s 2ms/step - loss: 1.4355 - mae: 0.9030 - mse: 1.4355 - mape: 19538118.0000\n",
            "Epoch 246/300\n",
            "17/17 [==============================] - 0s 2ms/step - loss: 1.4352 - mae: 0.9048 - mse: 1.4352 - mape: 19442456.0000\n",
            "Epoch 247/300\n",
            "17/17 [==============================] - 0s 2ms/step - loss: 1.4334 - mae: 0.9069 - mse: 1.4334 - mape: 19561020.0000\n",
            "Epoch 248/300\n",
            "17/17 [==============================] - 0s 2ms/step - loss: 1.4325 - mae: 0.9054 - mse: 1.4325 - mape: 19473538.0000\n",
            "Epoch 249/300\n",
            "17/17 [==============================] - 0s 2ms/step - loss: 1.4288 - mae: 0.9030 - mse: 1.4288 - mape: 19568828.0000\n",
            "Epoch 250/300\n",
            "17/17 [==============================] - 0s 2ms/step - loss: 1.4289 - mae: 0.9058 - mse: 1.4289 - mape: 19395750.0000\n",
            "Epoch 251/300\n",
            "17/17 [==============================] - 0s 2ms/step - loss: 1.4283 - mae: 0.9028 - mse: 1.4283 - mape: 19591312.0000\n",
            "Epoch 252/300\n",
            "17/17 [==============================] - 0s 2ms/step - loss: 1.4259 - mae: 0.9023 - mse: 1.4259 - mape: 19375738.0000\n",
            "Epoch 253/300\n",
            "17/17 [==============================] - 0s 2ms/step - loss: 1.4272 - mae: 0.9053 - mse: 1.4272 - mape: 19426252.0000\n",
            "Epoch 254/300\n",
            "17/17 [==============================] - 0s 3ms/step - loss: 1.4260 - mae: 0.9037 - mse: 1.4260 - mape: 19408620.0000\n",
            "Epoch 255/300\n",
            "17/17 [==============================] - 0s 2ms/step - loss: 1.4205 - mae: 0.9022 - mse: 1.4205 - mape: 19407488.0000\n",
            "Epoch 256/300\n",
            "17/17 [==============================] - 0s 2ms/step - loss: 1.4240 - mae: 0.9016 - mse: 1.4240 - mape: 19446186.0000\n",
            "Epoch 257/300\n",
            "17/17 [==============================] - 0s 2ms/step - loss: 1.4229 - mae: 0.9002 - mse: 1.4229 - mape: 19453440.0000\n",
            "Epoch 258/300\n",
            "17/17 [==============================] - 0s 3ms/step - loss: 1.4233 - mae: 0.9007 - mse: 1.4233 - mape: 19420460.0000\n",
            "Epoch 259/300\n",
            "17/17 [==============================] - 0s 2ms/step - loss: 1.4168 - mae: 0.8988 - mse: 1.4168 - mape: 19410986.0000\n",
            "Epoch 260/300\n",
            "17/17 [==============================] - 0s 2ms/step - loss: 1.4185 - mae: 0.9008 - mse: 1.4185 - mape: 19550596.0000\n",
            "Epoch 261/300\n",
            "17/17 [==============================] - 0s 2ms/step - loss: 1.4125 - mae: 0.8994 - mse: 1.4125 - mape: 19436018.0000\n",
            "Epoch 262/300\n",
            "17/17 [==============================] - 0s 2ms/step - loss: 1.4124 - mae: 0.8999 - mse: 1.4124 - mape: 19392982.0000\n",
            "Epoch 263/300\n",
            "17/17 [==============================] - 0s 2ms/step - loss: 1.4107 - mae: 0.9021 - mse: 1.4107 - mape: 19435444.0000\n",
            "Epoch 264/300\n",
            "17/17 [==============================] - 0s 2ms/step - loss: 1.4143 - mae: 0.8988 - mse: 1.4143 - mape: 19303806.0000\n",
            "Epoch 265/300\n",
            "17/17 [==============================] - 0s 2ms/step - loss: 1.4114 - mae: 0.8970 - mse: 1.4114 - mape: 19475054.0000\n",
            "Epoch 266/300\n",
            "17/17 [==============================] - 0s 2ms/step - loss: 1.4111 - mae: 0.8987 - mse: 1.4111 - mape: 19443068.0000\n",
            "Epoch 267/300\n",
            "17/17 [==============================] - 0s 2ms/step - loss: 1.4076 - mae: 0.8989 - mse: 1.4076 - mape: 19377856.0000\n",
            "Epoch 268/300\n",
            "17/17 [==============================] - 0s 2ms/step - loss: 1.4078 - mae: 0.8971 - mse: 1.4078 - mape: 19343256.0000\n",
            "Epoch 269/300\n",
            "17/17 [==============================] - 0s 2ms/step - loss: 1.4011 - mae: 0.8957 - mse: 1.4011 - mape: 19313346.0000\n",
            "Epoch 270/300\n",
            "17/17 [==============================] - 0s 2ms/step - loss: 1.4066 - mae: 0.8953 - mse: 1.4066 - mape: 19255490.0000\n",
            "Epoch 271/300\n",
            "17/17 [==============================] - 0s 2ms/step - loss: 1.4056 - mae: 0.8977 - mse: 1.4056 - mape: 19406946.0000\n",
            "Epoch 272/300\n",
            "17/17 [==============================] - 0s 2ms/step - loss: 1.4045 - mae: 0.8961 - mse: 1.4045 - mape: 19375990.0000\n",
            "Epoch 273/300\n",
            "17/17 [==============================] - 0s 2ms/step - loss: 1.4037 - mae: 0.8972 - mse: 1.4037 - mape: 19373740.0000\n",
            "Epoch 274/300\n",
            "17/17 [==============================] - 0s 2ms/step - loss: 1.4001 - mae: 0.8969 - mse: 1.4001 - mape: 19382274.0000\n",
            "Epoch 275/300\n",
            "17/17 [==============================] - 0s 2ms/step - loss: 1.4011 - mae: 0.8967 - mse: 1.4011 - mape: 19374352.0000\n",
            "Epoch 276/300\n",
            "17/17 [==============================] - 0s 2ms/step - loss: 1.4004 - mae: 0.8941 - mse: 1.4004 - mape: 19452174.0000\n",
            "Epoch 277/300\n",
            "17/17 [==============================] - 0s 2ms/step - loss: 1.3997 - mae: 0.8935 - mse: 1.3997 - mape: 19496352.0000\n",
            "Epoch 278/300\n",
            "17/17 [==============================] - 0s 3ms/step - loss: 1.3991 - mae: 0.8953 - mse: 1.3991 - mape: 19366174.0000\n",
            "Epoch 279/300\n",
            "17/17 [==============================] - 0s 2ms/step - loss: 1.3991 - mae: 0.8933 - mse: 1.3991 - mape: 19307282.0000\n",
            "Epoch 280/300\n",
            "17/17 [==============================] - 0s 2ms/step - loss: 1.4003 - mae: 0.8952 - mse: 1.4003 - mape: 19406450.0000\n",
            "Epoch 281/300\n",
            "17/17 [==============================] - 0s 2ms/step - loss: 1.3991 - mae: 0.8925 - mse: 1.3991 - mape: 19328366.0000\n",
            "Epoch 282/300\n",
            "17/17 [==============================] - 0s 2ms/step - loss: 1.3917 - mae: 0.8924 - mse: 1.3917 - mape: 19393122.0000\n",
            "Epoch 283/300\n",
            "17/17 [==============================] - 0s 2ms/step - loss: 1.3906 - mae: 0.8930 - mse: 1.3906 - mape: 19402878.0000\n",
            "Epoch 284/300\n",
            "17/17 [==============================] - 0s 2ms/step - loss: 1.3927 - mae: 0.8937 - mse: 1.3927 - mape: 19512870.0000\n",
            "Epoch 285/300\n",
            "17/17 [==============================] - 0s 2ms/step - loss: 1.3958 - mae: 0.8937 - mse: 1.3958 - mape: 19313654.0000\n",
            "Epoch 286/300\n",
            "17/17 [==============================] - 0s 3ms/step - loss: 1.3940 - mae: 0.8912 - mse: 1.3940 - mape: 19458638.0000\n",
            "Epoch 287/300\n",
            "17/17 [==============================] - 0s 2ms/step - loss: 1.3922 - mae: 0.8906 - mse: 1.3922 - mape: 19357452.0000\n",
            "Epoch 288/300\n",
            "17/17 [==============================] - 0s 2ms/step - loss: 1.3986 - mae: 0.8950 - mse: 1.3986 - mape: 19304154.0000\n",
            "Epoch 289/300\n",
            "17/17 [==============================] - 0s 2ms/step - loss: 1.3920 - mae: 0.8903 - mse: 1.3920 - mape: 19340694.0000\n",
            "Epoch 290/300\n",
            "17/17 [==============================] - 0s 2ms/step - loss: 1.3849 - mae: 0.8881 - mse: 1.3849 - mape: 19152580.0000\n",
            "Epoch 291/300\n",
            "17/17 [==============================] - 0s 2ms/step - loss: 1.3910 - mae: 0.8920 - mse: 1.3910 - mape: 19297798.0000\n",
            "Epoch 292/300\n",
            "17/17 [==============================] - 0s 2ms/step - loss: 1.3869 - mae: 0.8912 - mse: 1.3869 - mape: 19206952.0000\n",
            "Epoch 293/300\n",
            "17/17 [==============================] - 0s 2ms/step - loss: 1.3946 - mae: 0.8923 - mse: 1.3946 - mape: 19442714.0000\n",
            "Epoch 294/300\n",
            "17/17 [==============================] - 0s 2ms/step - loss: 1.3884 - mae: 0.8912 - mse: 1.3884 - mape: 19194732.0000\n",
            "Epoch 295/300\n",
            "17/17 [==============================] - 0s 2ms/step - loss: 1.3885 - mae: 0.8904 - mse: 1.3885 - mape: 19260162.0000\n",
            "Epoch 296/300\n",
            "17/17 [==============================] - 0s 2ms/step - loss: 1.3906 - mae: 0.8920 - mse: 1.3906 - mape: 19349622.0000\n",
            "Epoch 297/300\n",
            "17/17 [==============================] - 0s 2ms/step - loss: 1.3840 - mae: 0.8871 - mse: 1.3840 - mape: 19183212.0000\n",
            "Epoch 298/300\n",
            "17/17 [==============================] - 0s 2ms/step - loss: 1.3851 - mae: 0.8887 - mse: 1.3851 - mape: 19104538.0000\n",
            "Epoch 299/300\n",
            "17/17 [==============================] - 0s 3ms/step - loss: 1.3936 - mae: 0.8909 - mse: 1.3936 - mape: 19500140.0000\n",
            "Epoch 300/300\n",
            "17/17 [==============================] - 0s 2ms/step - loss: 1.3798 - mae: 0.8842 - mse: 1.3798 - mape: 19458266.0000\n"
          ]
        },
        {
          "output_type": "execute_result",
          "data": {
            "text/plain": [
              "<keras.callbacks.History at 0x7fdec3503a50>"
            ]
          },
          "metadata": {},
          "execution_count": 18
        }
      ]
    },
    {
      "cell_type": "markdown",
      "source": [
        "we can see that as accuracy increasing with the running epochs the loss is decresing.\n",
        "we r able to make 86 correct predictions and 33 wrong predictions"
      ],
      "metadata": {
        "id": "dZNIGg1Mk9Ms"
      }
    },
    {
      "cell_type": "markdown",
      "metadata": {
        "id": "tJj5k2MxZga3"
      },
      "source": [
        "## Part 4 - Making the predictions and evaluating the model"
      ]
    },
    {
      "cell_type": "code",
      "source": [
        "data2.head()"
      ],
      "metadata": {
        "colab": {
          "base_uri": "https://localhost:8080/",
          "height": 206
        },
        "id": "JhEvEwKxGlq7",
        "outputId": "a36e2391-03e6-41c1-904d-303e2efd95fb"
      },
      "execution_count": 19,
      "outputs": [
        {
          "output_type": "execute_result",
          "data": {
            "text/plain": [
              "   G1  G2  G3  failures  studytime  freetime  absences internet\n",
              "0   0  11  11         0          2         3         4       no\n",
              "1   9  11  11         0          2         3         2      yes\n",
              "2  12  13  12         0          2         3         6      yes\n",
              "3  14  14  14         0          3         2         0      yes\n",
              "4  11  13  13         0          2         3         0       no"
            ],
            "text/html": [
              "\n",
              "  <div id=\"df-40339613-a6ce-4ae9-93d6-0150d63a954a\">\n",
              "    <div class=\"colab-df-container\">\n",
              "      <div>\n",
              "<style scoped>\n",
              "    .dataframe tbody tr th:only-of-type {\n",
              "        vertical-align: middle;\n",
              "    }\n",
              "\n",
              "    .dataframe tbody tr th {\n",
              "        vertical-align: top;\n",
              "    }\n",
              "\n",
              "    .dataframe thead th {\n",
              "        text-align: right;\n",
              "    }\n",
              "</style>\n",
              "<table border=\"1\" class=\"dataframe\">\n",
              "  <thead>\n",
              "    <tr style=\"text-align: right;\">\n",
              "      <th></th>\n",
              "      <th>G1</th>\n",
              "      <th>G2</th>\n",
              "      <th>G3</th>\n",
              "      <th>failures</th>\n",
              "      <th>studytime</th>\n",
              "      <th>freetime</th>\n",
              "      <th>absences</th>\n",
              "      <th>internet</th>\n",
              "    </tr>\n",
              "  </thead>\n",
              "  <tbody>\n",
              "    <tr>\n",
              "      <th>0</th>\n",
              "      <td>0</td>\n",
              "      <td>11</td>\n",
              "      <td>11</td>\n",
              "      <td>0</td>\n",
              "      <td>2</td>\n",
              "      <td>3</td>\n",
              "      <td>4</td>\n",
              "      <td>no</td>\n",
              "    </tr>\n",
              "    <tr>\n",
              "      <th>1</th>\n",
              "      <td>9</td>\n",
              "      <td>11</td>\n",
              "      <td>11</td>\n",
              "      <td>0</td>\n",
              "      <td>2</td>\n",
              "      <td>3</td>\n",
              "      <td>2</td>\n",
              "      <td>yes</td>\n",
              "    </tr>\n",
              "    <tr>\n",
              "      <th>2</th>\n",
              "      <td>12</td>\n",
              "      <td>13</td>\n",
              "      <td>12</td>\n",
              "      <td>0</td>\n",
              "      <td>2</td>\n",
              "      <td>3</td>\n",
              "      <td>6</td>\n",
              "      <td>yes</td>\n",
              "    </tr>\n",
              "    <tr>\n",
              "      <th>3</th>\n",
              "      <td>14</td>\n",
              "      <td>14</td>\n",
              "      <td>14</td>\n",
              "      <td>0</td>\n",
              "      <td>3</td>\n",
              "      <td>2</td>\n",
              "      <td>0</td>\n",
              "      <td>yes</td>\n",
              "    </tr>\n",
              "    <tr>\n",
              "      <th>4</th>\n",
              "      <td>11</td>\n",
              "      <td>13</td>\n",
              "      <td>13</td>\n",
              "      <td>0</td>\n",
              "      <td>2</td>\n",
              "      <td>3</td>\n",
              "      <td>0</td>\n",
              "      <td>no</td>\n",
              "    </tr>\n",
              "  </tbody>\n",
              "</table>\n",
              "</div>\n",
              "      <button class=\"colab-df-convert\" onclick=\"convertToInteractive('df-40339613-a6ce-4ae9-93d6-0150d63a954a')\"\n",
              "              title=\"Convert this dataframe to an interactive table.\"\n",
              "              style=\"display:none;\">\n",
              "        \n",
              "  <svg xmlns=\"http://www.w3.org/2000/svg\" height=\"24px\"viewBox=\"0 0 24 24\"\n",
              "       width=\"24px\">\n",
              "    <path d=\"M0 0h24v24H0V0z\" fill=\"none\"/>\n",
              "    <path d=\"M18.56 5.44l.94 2.06.94-2.06 2.06-.94-2.06-.94-.94-2.06-.94 2.06-2.06.94zm-11 1L8.5 8.5l.94-2.06 2.06-.94-2.06-.94L8.5 2.5l-.94 2.06-2.06.94zm10 10l.94 2.06.94-2.06 2.06-.94-2.06-.94-.94-2.06-.94 2.06-2.06.94z\"/><path d=\"M17.41 7.96l-1.37-1.37c-.4-.4-.92-.59-1.43-.59-.52 0-1.04.2-1.43.59L10.3 9.45l-7.72 7.72c-.78.78-.78 2.05 0 2.83L4 21.41c.39.39.9.59 1.41.59.51 0 1.02-.2 1.41-.59l7.78-7.78 2.81-2.81c.8-.78.8-2.07 0-2.86zM5.41 20L4 18.59l7.72-7.72 1.47 1.35L5.41 20z\"/>\n",
              "  </svg>\n",
              "      </button>\n",
              "      \n",
              "  <style>\n",
              "    .colab-df-container {\n",
              "      display:flex;\n",
              "      flex-wrap:wrap;\n",
              "      gap: 12px;\n",
              "    }\n",
              "\n",
              "    .colab-df-convert {\n",
              "      background-color: #E8F0FE;\n",
              "      border: none;\n",
              "      border-radius: 50%;\n",
              "      cursor: pointer;\n",
              "      display: none;\n",
              "      fill: #1967D2;\n",
              "      height: 32px;\n",
              "      padding: 0 0 0 0;\n",
              "      width: 32px;\n",
              "    }\n",
              "\n",
              "    .colab-df-convert:hover {\n",
              "      background-color: #E2EBFA;\n",
              "      box-shadow: 0px 1px 2px rgba(60, 64, 67, 0.3), 0px 1px 3px 1px rgba(60, 64, 67, 0.15);\n",
              "      fill: #174EA6;\n",
              "    }\n",
              "\n",
              "    [theme=dark] .colab-df-convert {\n",
              "      background-color: #3B4455;\n",
              "      fill: #D2E3FC;\n",
              "    }\n",
              "\n",
              "    [theme=dark] .colab-df-convert:hover {\n",
              "      background-color: #434B5C;\n",
              "      box-shadow: 0px 1px 3px 1px rgba(0, 0, 0, 0.15);\n",
              "      filter: drop-shadow(0px 1px 2px rgba(0, 0, 0, 0.3));\n",
              "      fill: #FFFFFF;\n",
              "    }\n",
              "  </style>\n",
              "\n",
              "      <script>\n",
              "        const buttonEl =\n",
              "          document.querySelector('#df-40339613-a6ce-4ae9-93d6-0150d63a954a button.colab-df-convert');\n",
              "        buttonEl.style.display =\n",
              "          google.colab.kernel.accessAllowed ? 'block' : 'none';\n",
              "\n",
              "        async function convertToInteractive(key) {\n",
              "          const element = document.querySelector('#df-40339613-a6ce-4ae9-93d6-0150d63a954a');\n",
              "          const dataTable =\n",
              "            await google.colab.kernel.invokeFunction('convertToInteractive',\n",
              "                                                     [key], {});\n",
              "          if (!dataTable) return;\n",
              "\n",
              "          const docLinkHtml = 'Like what you see? Visit the ' +\n",
              "            '<a target=\"_blank\" href=https://colab.research.google.com/notebooks/data_table.ipynb>data table notebook</a>'\n",
              "            + ' to learn more about interactive tables.';\n",
              "          element.innerHTML = '';\n",
              "          dataTable['output_type'] = 'display_data';\n",
              "          await google.colab.output.renderOutput(dataTable, element);\n",
              "          const docLink = document.createElement('div');\n",
              "          docLink.innerHTML = docLinkHtml;\n",
              "          element.appendChild(docLink);\n",
              "        }\n",
              "      </script>\n",
              "    </div>\n",
              "  </div>\n",
              "  "
            ]
          },
          "metadata": {},
          "execution_count": 19
        }
      ]
    },
    {
      "cell_type": "code",
      "source": [
        "data2.describe()"
      ],
      "metadata": {
        "colab": {
          "base_uri": "https://localhost:8080/",
          "height": 300
        },
        "id": "NgBly2F_Qgk4",
        "outputId": "c228748f-602b-4218-ee28-e520fbff49f9"
      },
      "execution_count": 20,
      "outputs": [
        {
          "output_type": "execute_result",
          "data": {
            "text/plain": [
              "               G1          G2          G3    failures   studytime    freetime  \\\n",
              "count  649.000000  649.000000  649.000000  649.000000  649.000000  649.000000   \n",
              "mean    11.399076   11.570108   11.906009    0.221880    1.930663    3.180277   \n",
              "std      2.745265    2.913639    3.230656    0.593235    0.829510    1.051093   \n",
              "min      0.000000    0.000000    0.000000    0.000000    1.000000    1.000000   \n",
              "25%     10.000000   10.000000   10.000000    0.000000    1.000000    3.000000   \n",
              "50%     11.000000   11.000000   12.000000    0.000000    2.000000    3.000000   \n",
              "75%     13.000000   13.000000   14.000000    0.000000    2.000000    4.000000   \n",
              "max     19.000000   19.000000   19.000000    3.000000    4.000000    5.000000   \n",
              "\n",
              "         absences  \n",
              "count  649.000000  \n",
              "mean     3.659476  \n",
              "std      4.640759  \n",
              "min      0.000000  \n",
              "25%      0.000000  \n",
              "50%      2.000000  \n",
              "75%      6.000000  \n",
              "max     32.000000  "
            ],
            "text/html": [
              "\n",
              "  <div id=\"df-9802d460-5994-4996-85b0-db9e13e0d1fe\">\n",
              "    <div class=\"colab-df-container\">\n",
              "      <div>\n",
              "<style scoped>\n",
              "    .dataframe tbody tr th:only-of-type {\n",
              "        vertical-align: middle;\n",
              "    }\n",
              "\n",
              "    .dataframe tbody tr th {\n",
              "        vertical-align: top;\n",
              "    }\n",
              "\n",
              "    .dataframe thead th {\n",
              "        text-align: right;\n",
              "    }\n",
              "</style>\n",
              "<table border=\"1\" class=\"dataframe\">\n",
              "  <thead>\n",
              "    <tr style=\"text-align: right;\">\n",
              "      <th></th>\n",
              "      <th>G1</th>\n",
              "      <th>G2</th>\n",
              "      <th>G3</th>\n",
              "      <th>failures</th>\n",
              "      <th>studytime</th>\n",
              "      <th>freetime</th>\n",
              "      <th>absences</th>\n",
              "    </tr>\n",
              "  </thead>\n",
              "  <tbody>\n",
              "    <tr>\n",
              "      <th>count</th>\n",
              "      <td>649.000000</td>\n",
              "      <td>649.000000</td>\n",
              "      <td>649.000000</td>\n",
              "      <td>649.000000</td>\n",
              "      <td>649.000000</td>\n",
              "      <td>649.000000</td>\n",
              "      <td>649.000000</td>\n",
              "    </tr>\n",
              "    <tr>\n",
              "      <th>mean</th>\n",
              "      <td>11.399076</td>\n",
              "      <td>11.570108</td>\n",
              "      <td>11.906009</td>\n",
              "      <td>0.221880</td>\n",
              "      <td>1.930663</td>\n",
              "      <td>3.180277</td>\n",
              "      <td>3.659476</td>\n",
              "    </tr>\n",
              "    <tr>\n",
              "      <th>std</th>\n",
              "      <td>2.745265</td>\n",
              "      <td>2.913639</td>\n",
              "      <td>3.230656</td>\n",
              "      <td>0.593235</td>\n",
              "      <td>0.829510</td>\n",
              "      <td>1.051093</td>\n",
              "      <td>4.640759</td>\n",
              "    </tr>\n",
              "    <tr>\n",
              "      <th>min</th>\n",
              "      <td>0.000000</td>\n",
              "      <td>0.000000</td>\n",
              "      <td>0.000000</td>\n",
              "      <td>0.000000</td>\n",
              "      <td>1.000000</td>\n",
              "      <td>1.000000</td>\n",
              "      <td>0.000000</td>\n",
              "    </tr>\n",
              "    <tr>\n",
              "      <th>25%</th>\n",
              "      <td>10.000000</td>\n",
              "      <td>10.000000</td>\n",
              "      <td>10.000000</td>\n",
              "      <td>0.000000</td>\n",
              "      <td>1.000000</td>\n",
              "      <td>3.000000</td>\n",
              "      <td>0.000000</td>\n",
              "    </tr>\n",
              "    <tr>\n",
              "      <th>50%</th>\n",
              "      <td>11.000000</td>\n",
              "      <td>11.000000</td>\n",
              "      <td>12.000000</td>\n",
              "      <td>0.000000</td>\n",
              "      <td>2.000000</td>\n",
              "      <td>3.000000</td>\n",
              "      <td>2.000000</td>\n",
              "    </tr>\n",
              "    <tr>\n",
              "      <th>75%</th>\n",
              "      <td>13.000000</td>\n",
              "      <td>13.000000</td>\n",
              "      <td>14.000000</td>\n",
              "      <td>0.000000</td>\n",
              "      <td>2.000000</td>\n",
              "      <td>4.000000</td>\n",
              "      <td>6.000000</td>\n",
              "    </tr>\n",
              "    <tr>\n",
              "      <th>max</th>\n",
              "      <td>19.000000</td>\n",
              "      <td>19.000000</td>\n",
              "      <td>19.000000</td>\n",
              "      <td>3.000000</td>\n",
              "      <td>4.000000</td>\n",
              "      <td>5.000000</td>\n",
              "      <td>32.000000</td>\n",
              "    </tr>\n",
              "  </tbody>\n",
              "</table>\n",
              "</div>\n",
              "      <button class=\"colab-df-convert\" onclick=\"convertToInteractive('df-9802d460-5994-4996-85b0-db9e13e0d1fe')\"\n",
              "              title=\"Convert this dataframe to an interactive table.\"\n",
              "              style=\"display:none;\">\n",
              "        \n",
              "  <svg xmlns=\"http://www.w3.org/2000/svg\" height=\"24px\"viewBox=\"0 0 24 24\"\n",
              "       width=\"24px\">\n",
              "    <path d=\"M0 0h24v24H0V0z\" fill=\"none\"/>\n",
              "    <path d=\"M18.56 5.44l.94 2.06.94-2.06 2.06-.94-2.06-.94-.94-2.06-.94 2.06-2.06.94zm-11 1L8.5 8.5l.94-2.06 2.06-.94-2.06-.94L8.5 2.5l-.94 2.06-2.06.94zm10 10l.94 2.06.94-2.06 2.06-.94-2.06-.94-.94-2.06-.94 2.06-2.06.94z\"/><path d=\"M17.41 7.96l-1.37-1.37c-.4-.4-.92-.59-1.43-.59-.52 0-1.04.2-1.43.59L10.3 9.45l-7.72 7.72c-.78.78-.78 2.05 0 2.83L4 21.41c.39.39.9.59 1.41.59.51 0 1.02-.2 1.41-.59l7.78-7.78 2.81-2.81c.8-.78.8-2.07 0-2.86zM5.41 20L4 18.59l7.72-7.72 1.47 1.35L5.41 20z\"/>\n",
              "  </svg>\n",
              "      </button>\n",
              "      \n",
              "  <style>\n",
              "    .colab-df-container {\n",
              "      display:flex;\n",
              "      flex-wrap:wrap;\n",
              "      gap: 12px;\n",
              "    }\n",
              "\n",
              "    .colab-df-convert {\n",
              "      background-color: #E8F0FE;\n",
              "      border: none;\n",
              "      border-radius: 50%;\n",
              "      cursor: pointer;\n",
              "      display: none;\n",
              "      fill: #1967D2;\n",
              "      height: 32px;\n",
              "      padding: 0 0 0 0;\n",
              "      width: 32px;\n",
              "    }\n",
              "\n",
              "    .colab-df-convert:hover {\n",
              "      background-color: #E2EBFA;\n",
              "      box-shadow: 0px 1px 2px rgba(60, 64, 67, 0.3), 0px 1px 3px 1px rgba(60, 64, 67, 0.15);\n",
              "      fill: #174EA6;\n",
              "    }\n",
              "\n",
              "    [theme=dark] .colab-df-convert {\n",
              "      background-color: #3B4455;\n",
              "      fill: #D2E3FC;\n",
              "    }\n",
              "\n",
              "    [theme=dark] .colab-df-convert:hover {\n",
              "      background-color: #434B5C;\n",
              "      box-shadow: 0px 1px 3px 1px rgba(0, 0, 0, 0.15);\n",
              "      filter: drop-shadow(0px 1px 2px rgba(0, 0, 0, 0.3));\n",
              "      fill: #FFFFFF;\n",
              "    }\n",
              "  </style>\n",
              "\n",
              "      <script>\n",
              "        const buttonEl =\n",
              "          document.querySelector('#df-9802d460-5994-4996-85b0-db9e13e0d1fe button.colab-df-convert');\n",
              "        buttonEl.style.display =\n",
              "          google.colab.kernel.accessAllowed ? 'block' : 'none';\n",
              "\n",
              "        async function convertToInteractive(key) {\n",
              "          const element = document.querySelector('#df-9802d460-5994-4996-85b0-db9e13e0d1fe');\n",
              "          const dataTable =\n",
              "            await google.colab.kernel.invokeFunction('convertToInteractive',\n",
              "                                                     [key], {});\n",
              "          if (!dataTable) return;\n",
              "\n",
              "          const docLinkHtml = 'Like what you see? Visit the ' +\n",
              "            '<a target=\"_blank\" href=https://colab.research.google.com/notebooks/data_table.ipynb>data table notebook</a>'\n",
              "            + ' to learn more about interactive tables.';\n",
              "          element.innerHTML = '';\n",
              "          dataTable['output_type'] = 'display_data';\n",
              "          await google.colab.output.renderOutput(dataTable, element);\n",
              "          const docLink = document.createElement('div');\n",
              "          docLink.innerHTML = docLinkHtml;\n",
              "          element.appendChild(docLink);\n",
              "        }\n",
              "      </script>\n",
              "    </div>\n",
              "  </div>\n",
              "  "
            ]
          },
          "metadata": {},
          "execution_count": 20
        }
      ]
    },
    {
      "cell_type": "code",
      "source": [
        "x[3,:]"
      ],
      "metadata": {
        "colab": {
          "base_uri": "https://localhost:8080/"
        },
        "id": "4crIS2k-LS1g",
        "outputId": "460fc4dc-4705-4c7b-ff77-b1b9f78a3e5b"
      },
      "execution_count": 29,
      "outputs": [
        {
          "output_type": "execute_result",
          "data": {
            "text/plain": [
              "array([14, 14, 0, 3, 2, 0, 1], dtype=object)"
            ]
          },
          "metadata": {},
          "execution_count": 29
        }
      ]
    },
    {
      "cell_type": "code",
      "source": [
        "# example_pred = (x[1,:])\n",
        "\n",
        "# example_pred = np.asarray(example_pred).astype(np.int64)\n",
        "\n",
        "example_res = ann.predict(sc.transform([[14, 14, 0, 3, 2, 0, 1]])).flatten()\n",
        "\n",
        "example_res"
      ],
      "metadata": {
        "colab": {
          "base_uri": "https://localhost:8080/"
        },
        "id": "p6alLYQvFGs9",
        "outputId": "3c79fcbb-22ce-4d3d-afc0-35e980a7deea"
      },
      "execution_count": 30,
      "outputs": [
        {
          "output_type": "execute_result",
          "data": {
            "text/plain": [
              "array([13.176099], dtype=float32)"
            ]
          },
          "metadata": {},
          "execution_count": 30
        }
      ]
    },
    {
      "cell_type": "markdown",
      "metadata": {
        "id": "84QFoqGYeXHL"
      },
      "source": [
        "### Predicting the result of a single observation"
      ]
    },
    {
      "cell_type": "markdown",
      "metadata": {
        "id": "CGRo3eacgDdC"
      },
      "source": [
        "**Homework**\n",
        "\n",
        "Use our ANN model to predict if the customer with the following informations will leave the bank: \n",
        "\n",
        "Geography: France\n",
        "\n",
        "Credit Score: 600\n",
        "\n",
        "Gender: Male\n",
        "\n",
        "Age: 40 years old\n",
        "\n",
        "Tenure: 3 years\n",
        "\n",
        "Balance: \\$ 60000\n",
        "\n",
        "Number of Products: 2\n",
        "\n",
        "Does this customer have a credit card? Yes\n",
        "\n",
        "Is this customer an Active Member: Yes\n",
        "\n",
        "Estimated Salary: \\$ 50000\n",
        "\n",
        "So, should we say goodbye to that customer?"
      ]
    },
    {
      "cell_type": "markdown",
      "metadata": {
        "id": "ZhU1LTgPg-kH"
      },
      "source": [
        "**Solution**"
      ]
    },
    {
      "cell_type": "code",
      "source": [
        "print(ann.predict(sc.transform([[7,3,9,6]])))\n",
        "\n",
        "# the above will give the output interms of probability bw 0 to 1 including \n",
        "# as we have used the sigmoid function in the output layer \n",
        "\n",
        "# things to keep in mind \n",
        "# ---imp_1---\n",
        "# include double square brakcets as the prdict method always expects 2D array as the format of input \n",
        "# ---imp_2---\n",
        "# also the input for the parameter Geography expects a One-Hot-Encoded values \n",
        "# ---imp_3---\n",
        "# predict method has to be called on the observations on which the same scaling has to be applied as it was applied on the test dataset\n",
        "# as we trained our Model on the scaled test set the same scaling has to be applied to the obseervations that have to prdict the result\n",
        "# it is always the case for neural networks and deep learning to apply scaling \n",
        "# fit_transform is not used and only transform as fit_transform is used to get the mean and standard deviation of the values and fit it to the training set\n",
        "# so we need only transform method as if we apply fit agian then it will result in info leakage\n",
        "\n",
        "# print(ann.predict(sc.transform([[1, 0, 0, 600, 1, 40, 3, 60000, 2, 1, 1, 50000]])) > 0.5)\n",
        "# in order to print True or False the above comparison can be used \n",
        "# false meaning that the customer will not leave the bank"
      ],
      "metadata": {
        "colab": {
          "base_uri": "https://localhost:8080/",
          "height": 393
        },
        "id": "bQ2TY30IW6Vh",
        "outputId": "c4ae0d09-9a8a-40d6-dee2-b4354903aa58"
      },
      "execution_count": 23,
      "outputs": [
        {
          "output_type": "error",
          "ename": "ValueError",
          "evalue": "ignored",
          "traceback": [
            "\u001b[0;31m---------------------------------------------------------------------------\u001b[0m",
            "\u001b[0;31mValueError\u001b[0m                                Traceback (most recent call last)",
            "\u001b[0;32m<ipython-input-23-48781f9a714a>\u001b[0m in \u001b[0;36m<module>\u001b[0;34m\u001b[0m\n\u001b[0;32m----> 1\u001b[0;31m \u001b[0mprint\u001b[0m\u001b[0;34m(\u001b[0m\u001b[0mann\u001b[0m\u001b[0;34m.\u001b[0m\u001b[0mpredict\u001b[0m\u001b[0;34m(\u001b[0m\u001b[0msc\u001b[0m\u001b[0;34m.\u001b[0m\u001b[0mtransform\u001b[0m\u001b[0;34m(\u001b[0m\u001b[0;34m[\u001b[0m\u001b[0;34m[\u001b[0m\u001b[0;36m7\u001b[0m\u001b[0;34m,\u001b[0m\u001b[0;36m3\u001b[0m\u001b[0;34m,\u001b[0m\u001b[0;36m9\u001b[0m\u001b[0;34m,\u001b[0m\u001b[0;36m6\u001b[0m\u001b[0;34m]\u001b[0m\u001b[0;34m]\u001b[0m\u001b[0;34m)\u001b[0m\u001b[0;34m)\u001b[0m\u001b[0;34m)\u001b[0m\u001b[0;34m\u001b[0m\u001b[0;34m\u001b[0m\u001b[0m\n\u001b[0m\u001b[1;32m      2\u001b[0m \u001b[0;34m\u001b[0m\u001b[0m\n\u001b[1;32m      3\u001b[0m \u001b[0;31m# the above will give the output interms of probability bw 0 to 1 including\u001b[0m\u001b[0;34m\u001b[0m\u001b[0;34m\u001b[0m\u001b[0;34m\u001b[0m\u001b[0m\n\u001b[1;32m      4\u001b[0m \u001b[0;31m# as we have used the sigmoid function in the output layer\u001b[0m\u001b[0;34m\u001b[0m\u001b[0;34m\u001b[0m\u001b[0;34m\u001b[0m\u001b[0m\n\u001b[1;32m      5\u001b[0m \u001b[0;34m\u001b[0m\u001b[0m\n",
            "\u001b[0;32m/usr/local/lib/python3.7/dist-packages/sklearn/preprocessing/_data.py\u001b[0m in \u001b[0;36mtransform\u001b[0;34m(self, X, copy)\u001b[0m\n\u001b[1;32m    978\u001b[0m             \u001b[0mestimator\u001b[0m\u001b[0;34m=\u001b[0m\u001b[0mself\u001b[0m\u001b[0;34m,\u001b[0m\u001b[0;34m\u001b[0m\u001b[0;34m\u001b[0m\u001b[0m\n\u001b[1;32m    979\u001b[0m             \u001b[0mdtype\u001b[0m\u001b[0;34m=\u001b[0m\u001b[0mFLOAT_DTYPES\u001b[0m\u001b[0;34m,\u001b[0m\u001b[0;34m\u001b[0m\u001b[0;34m\u001b[0m\u001b[0m\n\u001b[0;32m--> 980\u001b[0;31m             \u001b[0mforce_all_finite\u001b[0m\u001b[0;34m=\u001b[0m\u001b[0;34m\"allow-nan\"\u001b[0m\u001b[0;34m,\u001b[0m\u001b[0;34m\u001b[0m\u001b[0;34m\u001b[0m\u001b[0m\n\u001b[0m\u001b[1;32m    981\u001b[0m         )\n\u001b[1;32m    982\u001b[0m \u001b[0;34m\u001b[0m\u001b[0m\n",
            "\u001b[0;32m/usr/local/lib/python3.7/dist-packages/sklearn/base.py\u001b[0m in \u001b[0;36m_validate_data\u001b[0;34m(self, X, y, reset, validate_separately, **check_params)\u001b[0m\n\u001b[1;32m    583\u001b[0m \u001b[0;34m\u001b[0m\u001b[0m\n\u001b[1;32m    584\u001b[0m         \u001b[0;32mif\u001b[0m \u001b[0;32mnot\u001b[0m \u001b[0mno_val_X\u001b[0m \u001b[0;32mand\u001b[0m \u001b[0mcheck_params\u001b[0m\u001b[0;34m.\u001b[0m\u001b[0mget\u001b[0m\u001b[0;34m(\u001b[0m\u001b[0;34m\"ensure_2d\"\u001b[0m\u001b[0;34m,\u001b[0m \u001b[0;32mTrue\u001b[0m\u001b[0;34m)\u001b[0m\u001b[0;34m:\u001b[0m\u001b[0;34m\u001b[0m\u001b[0;34m\u001b[0m\u001b[0m\n\u001b[0;32m--> 585\u001b[0;31m             \u001b[0mself\u001b[0m\u001b[0;34m.\u001b[0m\u001b[0m_check_n_features\u001b[0m\u001b[0;34m(\u001b[0m\u001b[0mX\u001b[0m\u001b[0;34m,\u001b[0m \u001b[0mreset\u001b[0m\u001b[0;34m=\u001b[0m\u001b[0mreset\u001b[0m\u001b[0;34m)\u001b[0m\u001b[0;34m\u001b[0m\u001b[0;34m\u001b[0m\u001b[0m\n\u001b[0m\u001b[1;32m    586\u001b[0m \u001b[0;34m\u001b[0m\u001b[0m\n\u001b[1;32m    587\u001b[0m         \u001b[0;32mreturn\u001b[0m \u001b[0mout\u001b[0m\u001b[0;34m\u001b[0m\u001b[0;34m\u001b[0m\u001b[0m\n",
            "\u001b[0;32m/usr/local/lib/python3.7/dist-packages/sklearn/base.py\u001b[0m in \u001b[0;36m_check_n_features\u001b[0;34m(self, X, reset)\u001b[0m\n\u001b[1;32m    399\u001b[0m         \u001b[0;32mif\u001b[0m \u001b[0mn_features\u001b[0m \u001b[0;34m!=\u001b[0m \u001b[0mself\u001b[0m\u001b[0;34m.\u001b[0m\u001b[0mn_features_in_\u001b[0m\u001b[0;34m:\u001b[0m\u001b[0;34m\u001b[0m\u001b[0;34m\u001b[0m\u001b[0m\n\u001b[1;32m    400\u001b[0m             raise ValueError(\n\u001b[0;32m--> 401\u001b[0;31m                 \u001b[0;34mf\"X has {n_features} features, but {self.__class__.__name__} \"\u001b[0m\u001b[0;34m\u001b[0m\u001b[0;34m\u001b[0m\u001b[0m\n\u001b[0m\u001b[1;32m    402\u001b[0m                 \u001b[0;34mf\"is expecting {self.n_features_in_} features as input.\"\u001b[0m\u001b[0;34m\u001b[0m\u001b[0;34m\u001b[0m\u001b[0m\n\u001b[1;32m    403\u001b[0m             )\n",
            "\u001b[0;31mValueError\u001b[0m: X has 4 features, but StandardScaler is expecting 7 features as input."
          ]
        }
      ]
    },
    {
      "cell_type": "markdown",
      "metadata": {
        "id": "wGjx94g2n7OV"
      },
      "source": [
        "Therefore, our ANN model predicts that this customer stays in the bank!\n",
        "\n",
        "**Important note 1:** Notice that the values of the features were all input in a double pair of square brackets. That's because the \"predict\" method always expects a 2D array as the format of its inputs. And putting our values into a double pair of square brackets makes the input exactly a 2D array.\n",
        "\n",
        "**Important note 2:** Notice also that the \"France\" country was not input as a string in the last column but as \"1, 0, 0\" in the first three columns. That's because of course the predict method expects the one-hot-encoded values of the state, and as we see in the first row of the matrix of features X, \"France\" was encoded as \"1, 0, 0\". And be careful to include these values in the first three columns, because the dummy variables are always created in the first columns."
      ]
    },
    {
      "cell_type": "markdown",
      "metadata": {
        "id": "u7yx47jPZt11"
      },
      "source": [
        "### Predicting the Test set results"
      ]
    },
    {
      "cell_type": "code",
      "source": [
        "# this is done to compare the y_pred and y_test respectively\n",
        "\n",
        "y_pred = ann.predict(x_test)\n",
        "\n",
        "y_pred = y_pred > 0.5\n",
        "\n",
        "print(np.concatenate((y_pred.reshape(len(y_pred),1), y_test.reshape(len(y_test),1)),1))\n",
        "# remember we used the same in NLP"
      ],
      "metadata": {
        "id": "T7vQ7_q_bM61"
      },
      "execution_count": null,
      "outputs": []
    },
    {
      "cell_type": "markdown",
      "metadata": {
        "id": "o0oyfLWoaEGw"
      },
      "source": [
        "### Making the Confusion Matrix"
      ]
    },
    {
      "cell_type": "code",
      "source": [
        "from sklearn.metrics import confusion_matrix, accuracy_score\n",
        "cm = confusion_matrix(y_test, y_pred)\n",
        "print(cm)\n",
        "accuracy_score(y_test, y_pred)\n",
        "\n",
        "# 86.2% correct predictions \n",
        "# remember we used the same in NLP"
      ],
      "metadata": {
        "id": "eHDdOfmscqxY"
      },
      "execution_count": null,
      "outputs": []
    }
  ]
}